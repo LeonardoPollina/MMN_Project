{
 "cells": [
  {
   "cell_type": "code",
   "execution_count": 1,
   "metadata": {},
   "outputs": [],
   "source": [
    "import neurom\n",
    "import tmd\n",
    "import seaborn\n",
    "import shutil\n",
    "import os\n",
    "from xml.etree import ElementTree as ET\n",
    "from neurom.apps import morph_stats\n",
    "from pathlib import Path\n",
    "import numpy as np\n",
    "import pandas as pd\n",
    "import pickle\n",
    "\n",
    "def get_mtypes_xml(filename='./neuronDB.xml'):\n",
    "    '''\n",
    "    Generates directories of mtypes that collect all cells\n",
    "    of this type, based on the data in filename\n",
    "    Filename should be of neuronDB.xml type\n",
    "    '''\n",
    "    FileDB = ET.parse(filename)\n",
    "    root = FileDB.findall('listing')[0]\n",
    "    morphs = root.findall('morphology')\n",
    "\n",
    "    mtypes = set()\n",
    "    for m in morphs:\n",
    "        try:\n",
    "            # Define mtypes\n",
    "            mtype = m.find('mtype').text\n",
    "            # Define suntypes (if they exist)\n",
    "            if m.find('msubtype').text:\n",
    "                mtype = mtype + ':' + m.find('msubtype').text\n",
    "            mtypes.add(mtype)\n",
    "        except:\n",
    "            print('Failed to process', m)\n",
    "            \n",
    "    decomposition = {}\n",
    "    for m in morphs:\n",
    "        mtype = m.find('mtype').text\n",
    "        if m.find('msubtype').text:\n",
    "            mtype = mtype + ':' + m.find('msubtype').text\n",
    "        decomposition[m.find('name').text] = mtype\n",
    "            \n",
    "    return mtypes, decomposition\n",
    "\n",
    "\n",
    "\n",
    "\n",
    "def create_dirs_per_mtype_from_xml(morph_dir, output_dir='Subtypes/'):\n",
    "    '''\n",
    "    Generates directories of mtypes that collect all cells\n",
    "    of this type, based on the data in filename\n",
    "    Filename should be of neuronDB.xml type\n",
    "    '''\n",
    "    filename = f'{morph_dir}/neuronDB.xml'\n",
    "    FileDB = ET.parse(filename)\n",
    "    root = FileDB.findall('listing')[0]\n",
    "    morphs = root.findall('morphology')\n",
    "\n",
    "    mtypes = set()\n",
    "    for m in morphs:\n",
    "        try:\n",
    "            # Define mtypes\n",
    "            mtype = m.find('mtype').text\n",
    "            # Define suntypes (if they exist)\n",
    "            if m.find('msubtype').text:\n",
    "                mtype = mtype + ':' + m.find('msubtype').text\n",
    "            mtypes.add(mtype)\n",
    "        except:\n",
    "            print('Failed to process', m)\n",
    "\n",
    "    # Create a directory for each m-type, subtype\n",
    "    for m in mtypes:\n",
    "        os.makedirs(f\"{output_dir}/{m}\",exist_ok=True)\n",
    "\n",
    "    for m in morphs:\n",
    "        mtype = m.find('mtype').text\n",
    "        if m.find('msubtype').text:\n",
    "            mtype = mtype + ':' + m.find('msubtype').text\n",
    "        # Copy all morphologies to the corresponding directory according to mtypes\n",
    "        assert os.path.exists(f\"{morph_dir}/{m.find('name').text}.asc\")\n",
    "        try:\n",
    "        #print(output_dir+ '/' + mtype + '/' + m.find('name').text + '.asc')\n",
    "            shutil.copy(f\"{morph_dir}/{m.find('name').text}.asc\", f\"{output_dir}/{mtype}/{m.find('name').text}.asc\")\n",
    "        except:\n",
    "            print(f\"could not find {m.find('name').text}\")\n",
    "\n",
    "def create_dirs_per_mtype_from_xml_h5(morph_dir, filename='./neuronDB.xml', output_dir='Subtypes/'):\n",
    "    '''\n",
    "    Generates directories of mtypes that collect all cells\n",
    "    of this type, based on the data in filename\n",
    "    Filename should be of neuronDB.xml type\n",
    "    '''\n",
    "    if os.path.exists(output_dir):\n",
    "        print('Output path exists. Skipping')\n",
    "        return True\n",
    "\n",
    "    FileDB = ET.parse(filename)\n",
    "    root = FileDB.findall('listing')[0]\n",
    "    morphs = root.findall('morphology')\n",
    "\n",
    "    mtypes = set()\n",
    "    for m in morphs:\n",
    "        try:\n",
    "            # Define mtypes\n",
    "            mtype = m.find('mtype').text\n",
    "            # Define suntypes (if they exist)\n",
    "            if m.find('msubtype').text:\n",
    "                mtype = mtype + ':' + m.find('msubtype').text\n",
    "            mtypes.add(mtype)\n",
    "        except:\n",
    "            print('Failed to process', m)\n",
    "\n",
    "    # Create a directory for each m-type, subtype\n",
    "    for m in mtypes:\n",
    "        os.makedirs(output_dir + m,exist_ok=True)\n",
    "\n",
    "    for m in morphs:\n",
    "        print(f'found {m.find(\"name\").text}.h5')\n",
    "        mtype = m.find('mtype').text\n",
    "        if m.find('msubtype').text:\n",
    "            mtype = mtype + ':' + m.find('msubtype').text\n",
    "        # Copy all morphologies to the corresponding directory according to mtypes\n",
    "        assert os.path.exists(f\"{morph_dir}/{m.find('name').text}.h5\")\n",
    "        try:\n",
    "        #print(output_dir+ '/' + mtype + '/' + m.find('name').text + '.asc')\n",
    "            shutil.copy(morph_dir + m.find('name').text + '.h5', output_dir + '/' + mtype + '/' + m.find('name').text + '.h5')\n",
    "        except:\n",
    "            print(m.find('name').text)\n",
    "\n",
    "\n",
    "def mvs_score(data1, data2, percent=90):\n",
    "    \"\"\"Get the MED - MVS score equal to\n",
    "    the absolute difference between the median\n",
    "    of the population and the median of the neuron\n",
    "    divided by the maximum visible spread.\n",
    "    \"\"\"\n",
    "    median_diff = np.abs(np.median(data1) - np.median(data2))\n",
    "    max_percentile = np.max([np.percentile(data1, 100 - percent / 2., axis=0),\n",
    "                             np.percentile(data2, 100 - percent / 2., axis=0)])\n",
    "\n",
    "    min_percentile = np.min([np.percentile(data1, percent / 2., axis=0),\n",
    "                             np.percentile(data2, percent / 2., axis=0)])\n",
    "\n",
    "    max_vis_spread = max_percentile - min_percentile\n",
    "\n",
    "    return median_diff / max_vis_spread\n",
    "\n",
    "\n",
    "def get_scores(mtype, config, input_d, output_d,check_neurites=['basal_dendrite','apical_dendrite','axon']):\n",
    "    pop1 = neurom.load_morphologies(f\"{input_d}/{mtype}\")\n",
    "    pop2 = neurom.load_morphologies(f\"{output_d}/{mtype}\")\n",
    "\n",
    "    df1 = morph_stats.extract_dataframe(pop1, config)\n",
    "    df2 = morph_stats.extract_dataframe(pop2, config)\n",
    "\n",
    "    scores = [] \n",
    "    \n",
    "    for neurite_type in check_neurites:\n",
    "        if neurite_type not in df1.keys():\n",
    "            print(f\"{neurite_type} not in {input_d}/{mtype}\")\n",
    "            continue\n",
    "        for k in df1[neurite_type].keys():\n",
    "            data1 = df1[neurite_type][k]\n",
    "            data2 = df2[neurite_type][k]\n",
    "            try:\n",
    "                sc1 = mvs_score(data1, data2, 5)\n",
    "            except:\n",
    "                sc1 = 0.0\n",
    "            if not np.isnan(sc1):\n",
    "                scores.append(sc1)\n",
    "            else:\n",
    "                scores.append(0.0)\n",
    "    return scores\n"
   ]
  },
  {
   "cell_type": "code",
   "execution_count": 113,
   "metadata": {},
   "outputs": [],
   "source": [
    "config = {\n",
    "    \"neurite\": {\n",
    "        \"number_of_bifurcations\": [\n",
    "            \"min\",\n",
    "            \"max\",\n",
    "            \"mean\",\n",
    "            \"std\"        ],\n",
    "        \"number_of_sections_per_neurite\": [\n",
    "            \"min\",\n",
    "            \"max\",\n",
    "            \"mean\",\n",
    "            \"std\"\n",
    "        ],\n",
    "        \"number_of_leaves\": [\n",
    "            \"min\",\n",
    "            \"max\",\n",
    "            \"mean\",\n",
    "            \"std\"        ],\n",
    "        \"partition_asymmetry\": [\n",
    "            \"min\",\n",
    "            \"max\",\n",
    "            \"mean\",\n",
    "            \"std\"\n",
    "        ],\n",
    "        \"partition_asymmetry_length\": [\n",
    "            \"min\",\n",
    "            \"max\",\n",
    "            \"mean\",\n",
    "            \"std\"\n",
    "        ],\n",
    "        \"remote_bifurcation_angles\": [\n",
    "            \"min\",\n",
    "            \"max\",\n",
    "            \"mean\",\n",
    "            \"std\"\n",
    "        ],\n",
    "        \"section_areas\": [\n",
    "            \"min\",\n",
    "            \"max\",\n",
    "            \"mean\",\n",
    "            \"std\"\n",
    "        ],\n",
    "        \"section_bif_branch_orders\": [\n",
    "            \"min\",\n",
    "            \"max\",\n",
    "            \"mean\",\n",
    "            \"std\"\n",
    "        ],\n",
    "        \"section_bif_lengths\": [\n",
    "            \"min\",\n",
    "            \"max\",\n",
    "            \"mean\",\n",
    "            \"std\"\n",
    "        ],\n",
    "        \"section_bif_radial_distances\": [\n",
    "            \"min\",\n",
    "            \"max\",\n",
    "            \"mean\",\n",
    "            \"std\"\n",
    "        ],\n",
    "        \"section_branch_orders\": [\n",
    "            \"min\",\n",
    "            \"max\",\n",
    "            \"mean\",\n",
    "            \"std\"\n",
    "        ],\n",
    "        \"section_lengths\": [\n",
    "            \"min\",\n",
    "            \"max\",\n",
    "            \"mean\",\n",
    "            \"std\"\n",
    "        ],\n",
    "        \"section_path_distances\": [\n",
    "            \"min\",\n",
    "            \"max\",\n",
    "            \"mean\",\n",
    "            \"std\"\n",
    "        ],\n",
    "        \"section_radial_distances\": [\n",
    "            \"min\",\n",
    "            \"max\",\n",
    "            \"mean\",\n",
    "            \"std\"\n",
    "        ],\n",
    "        \"section_strahler_orders\": [\n",
    "            \"min\",\n",
    "            \"max\",\n",
    "            \"mean\",\n",
    "            \"std\"\n",
    "        ],\n",
    "        \"section_term_branch_orders\": [\n",
    "            \"min\",\n",
    "            \"max\",\n",
    "            \"mean\",\n",
    "            \"std\"\n",
    "        ],\n",
    "        \"section_term_lengths\": [\n",
    "            \"min\",\n",
    "            \"max\",\n",
    "            \"mean\",\n",
    "            \"std\"\n",
    "        ],\n",
    "        \"section_term_radial_distances\": [\n",
    "            \"min\",\n",
    "            \"max\",\n",
    "            \"mean\",\n",
    "            \"std\"\n",
    "        ],\n",
    "        \"section_tortuosity\": [\n",
    "            \"min\",\n",
    "            \"max\",\n",
    "            \"mean\",\n",
    "            \"std\"\n",
    "        ],\n",
    "        \"section_volumes\": [\n",
    "            \"min\",\n",
    "            \"max\",\n",
    "            \"mean\",\n",
    "            \"std\"\n",
    "        ],\n",
    "        \"total_length_per_neurite\": [\n",
    "            \"min\",\n",
    "            \"max\",\n",
    "            \"mean\",\n",
    "            \"std\"\n",
    "        ]\n",
    "    },\n",
    "    \"neurite_type\": [\n",
    "        \"APICAL_DENDRITE\",\n",
    "        \"BASAL_DENDRITE\",\n",
    "        \"AXON\"\n",
    "    ]\n",
    "}"
   ]
  },
  {
   "cell_type": "code",
   "execution_count": 115,
   "metadata": {},
   "outputs": [],
   "source": [
    "# Directly from dictionary\n",
    "import json\n",
    "with open('config.json', 'w') as outfile:\n",
    "    json.dump(config, outfile)"
   ]
  },
  {
   "cell_type": "code",
   "execution_count": 3,
   "metadata": {},
   "outputs": [],
   "source": [
    "orig_morph_dir = '/gpfs/bbp.cscs.ch/project/proj112/entities/morphologies/20211019/02_ConvertMorphologies/'\n",
    "repaired_morph_dir = '/gpfs/bbp.cscs.ch/project/proj112/entities/morphologies/20211019/05_RepairUnravel-asc/'\n",
    "cloned_morph_dir = '/gpfs/bbp.cscs.ch/project/proj112/entities/morphologies/20211019/08_CloneMorphologies-asc/' # but is this the final?"
   ]
  },
  {
   "cell_type": "code",
   "execution_count": 4,
   "metadata": {},
   "outputs": [
    {
     "data": {
      "text/plain": [
       "array(['SLM_PPA', 'SO_BP', 'SO_BS', 'SO_OLM', 'SO_Tri', 'SP_AA', 'SP_BS',\n",
       "       'SP_CCKBC', 'SP_Ivy', 'SP_PC', 'SP_PVBC', 'SR_SCA'], dtype='<U8')"
      ]
     },
     "execution_count": 4,
     "metadata": {},
     "output_type": "execute_result"
    }
   ],
   "source": [
    "mtypes, decomposition = get_mtypes_xml(f'{repaired_morph_dir}/neuronDB.xml')\n",
    "MTYPES = np.array(sorted(list(mtypes)))\n",
    "MTYPES"
   ]
  },
  {
   "cell_type": "code",
   "execution_count": null,
   "metadata": {},
   "outputs": [],
   "source": [
    "create_dirs_per_mtype_from_xml(orig_morph_dir, output_dir='./orig_morphs/')\n",
    "create_dirs_per_mtype_from_xml(repaired_morph_dir, output_dir='./repaired_morphs/')\n",
    "create_dirs_per_mtype_from_xml(cloned_morph_dir, output_dir='./08_Cloned_morphs/')"
   ]
  },
  {
   "cell_type": "code",
   "execution_count": 5,
   "metadata": {},
   "outputs": [],
   "source": [
    "file_name_to_dump = \"ca1_morph_scores_repaired_clone_sorted_waxon.p\""
   ]
  },
  {
   "cell_type": "code",
   "execution_count": 98,
   "metadata": {
    "collapsed": true,
    "jupyter": {
     "outputs_hidden": true
    }
   },
   "outputs": [
    {
     "name": "stdout",
     "output_type": "stream",
     "text": [
      "SLM_PPA\n"
     ]
    },
    {
     "name": "stderr",
     "output_type": "stream",
     "text": [
      "<ipython-input-50-c62d276b1f6d>:145: RuntimeWarning: invalid value encountered in double_scalars\n",
      "  return median_diff / max_vis_spread\n",
      "<ipython-input-50-c62d276b1f6d>:145: RuntimeWarning: invalid value encountered in true_divide\n",
      "  return median_diff / max_vis_spread\n"
     ]
    },
    {
     "name": "stdout",
     "output_type": "stream",
     "text": [
      "SO_BP\n"
     ]
    },
    {
     "name": "stderr",
     "output_type": "stream",
     "text": [
      "<ipython-input-50-c62d276b1f6d>:145: RuntimeWarning: invalid value encountered in double_scalars\n",
      "  return median_diff / max_vis_spread\n",
      "<ipython-input-50-c62d276b1f6d>:145: RuntimeWarning: invalid value encountered in true_divide\n",
      "  return median_diff / max_vis_spread\n"
     ]
    },
    {
     "name": "stdout",
     "output_type": "stream",
     "text": [
      "SO_BS\n"
     ]
    },
    {
     "name": "stderr",
     "output_type": "stream",
     "text": [
      "<ipython-input-50-c62d276b1f6d>:145: RuntimeWarning: invalid value encountered in double_scalars\n",
      "  return median_diff / max_vis_spread\n",
      "<ipython-input-50-c62d276b1f6d>:145: RuntimeWarning: invalid value encountered in true_divide\n",
      "  return median_diff / max_vis_spread\n"
     ]
    },
    {
     "name": "stdout",
     "output_type": "stream",
     "text": [
      "SO_OLM\n"
     ]
    },
    {
     "name": "stderr",
     "output_type": "stream",
     "text": [
      "<ipython-input-50-c62d276b1f6d>:145: RuntimeWarning: invalid value encountered in double_scalars\n",
      "  return median_diff / max_vis_spread\n",
      "<ipython-input-50-c62d276b1f6d>:145: RuntimeWarning: invalid value encountered in true_divide\n",
      "  return median_diff / max_vis_spread\n"
     ]
    },
    {
     "name": "stdout",
     "output_type": "stream",
     "text": [
      "SO_Tri\n"
     ]
    },
    {
     "name": "stderr",
     "output_type": "stream",
     "text": [
      "<ipython-input-50-c62d276b1f6d>:145: RuntimeWarning: invalid value encountered in double_scalars\n",
      "  return median_diff / max_vis_spread\n"
     ]
    },
    {
     "name": "stdout",
     "output_type": "stream",
     "text": [
      "SP_AA\n"
     ]
    },
    {
     "name": "stderr",
     "output_type": "stream",
     "text": [
      "<ipython-input-50-c62d276b1f6d>:145: RuntimeWarning: invalid value encountered in double_scalars\n",
      "  return median_diff / max_vis_spread\n",
      "<ipython-input-50-c62d276b1f6d>:145: RuntimeWarning: invalid value encountered in true_divide\n",
      "  return median_diff / max_vis_spread\n"
     ]
    },
    {
     "name": "stdout",
     "output_type": "stream",
     "text": [
      "SP_BS\n"
     ]
    },
    {
     "name": "stderr",
     "output_type": "stream",
     "text": [
      "<ipython-input-50-c62d276b1f6d>:145: RuntimeWarning: invalid value encountered in double_scalars\n",
      "  return median_diff / max_vis_spread\n",
      "<ipython-input-50-c62d276b1f6d>:145: RuntimeWarning: invalid value encountered in true_divide\n",
      "  return median_diff / max_vis_spread\n"
     ]
    },
    {
     "name": "stdout",
     "output_type": "stream",
     "text": [
      "SP_CCKBC\n"
     ]
    },
    {
     "name": "stderr",
     "output_type": "stream",
     "text": [
      "<ipython-input-50-c62d276b1f6d>:145: RuntimeWarning: invalid value encountered in double_scalars\n",
      "  return median_diff / max_vis_spread\n",
      "<ipython-input-50-c62d276b1f6d>:145: RuntimeWarning: invalid value encountered in true_divide\n",
      "  return median_diff / max_vis_spread\n"
     ]
    },
    {
     "name": "stdout",
     "output_type": "stream",
     "text": [
      "SP_Ivy\n"
     ]
    },
    {
     "name": "stderr",
     "output_type": "stream",
     "text": [
      "<ipython-input-50-c62d276b1f6d>:145: RuntimeWarning: invalid value encountered in double_scalars\n",
      "  return median_diff / max_vis_spread\n"
     ]
    },
    {
     "name": "stdout",
     "output_type": "stream",
     "text": [
      "SP_PC\n"
     ]
    },
    {
     "name": "stderr",
     "output_type": "stream",
     "text": [
      "<ipython-input-50-c62d276b1f6d>:145: RuntimeWarning: invalid value encountered in double_scalars\n",
      "  return median_diff / max_vis_spread\n"
     ]
    },
    {
     "name": "stdout",
     "output_type": "stream",
     "text": [
      "SP_PVBC\n"
     ]
    },
    {
     "name": "stderr",
     "output_type": "stream",
     "text": [
      "<ipython-input-50-c62d276b1f6d>:145: RuntimeWarning: invalid value encountered in double_scalars\n",
      "  return median_diff / max_vis_spread\n"
     ]
    },
    {
     "name": "stdout",
     "output_type": "stream",
     "text": [
      "SR_SCA\n"
     ]
    },
    {
     "name": "stderr",
     "output_type": "stream",
     "text": [
      "<ipython-input-50-c62d276b1f6d>:145: RuntimeWarning: invalid value encountered in double_scalars\n",
      "  return median_diff / max_vis_spread\n",
      "<ipython-input-50-c62d276b1f6d>:145: RuntimeWarning: invalid value encountered in true_divide\n",
      "  return median_diff / max_vis_spread\n"
     ]
    },
    {
     "name": "stdout",
     "output_type": "stream",
     "text": [
      "SLM_PPA\n"
     ]
    },
    {
     "name": "stderr",
     "output_type": "stream",
     "text": [
      "<ipython-input-50-c62d276b1f6d>:145: RuntimeWarning: invalid value encountered in double_scalars\n",
      "  return median_diff / max_vis_spread\n"
     ]
    },
    {
     "name": "stdout",
     "output_type": "stream",
     "text": [
      "SO_BP\n"
     ]
    },
    {
     "name": "stderr",
     "output_type": "stream",
     "text": [
      "<ipython-input-50-c62d276b1f6d>:145: RuntimeWarning: invalid value encountered in double_scalars\n",
      "  return median_diff / max_vis_spread\n"
     ]
    },
    {
     "name": "stdout",
     "output_type": "stream",
     "text": [
      "SO_BS\n"
     ]
    },
    {
     "name": "stderr",
     "output_type": "stream",
     "text": [
      "<ipython-input-50-c62d276b1f6d>:145: RuntimeWarning: invalid value encountered in double_scalars\n",
      "  return median_diff / max_vis_spread\n"
     ]
    },
    {
     "name": "stdout",
     "output_type": "stream",
     "text": [
      "SO_OLM\n"
     ]
    },
    {
     "name": "stderr",
     "output_type": "stream",
     "text": [
      "<ipython-input-50-c62d276b1f6d>:145: RuntimeWarning: invalid value encountered in double_scalars\n",
      "  return median_diff / max_vis_spread\n"
     ]
    },
    {
     "name": "stdout",
     "output_type": "stream",
     "text": [
      "SO_Tri\n"
     ]
    },
    {
     "name": "stderr",
     "output_type": "stream",
     "text": [
      "<ipython-input-50-c62d276b1f6d>:145: RuntimeWarning: invalid value encountered in double_scalars\n",
      "  return median_diff / max_vis_spread\n"
     ]
    },
    {
     "name": "stdout",
     "output_type": "stream",
     "text": [
      "SP_AA\n"
     ]
    },
    {
     "name": "stderr",
     "output_type": "stream",
     "text": [
      "<ipython-input-50-c62d276b1f6d>:145: RuntimeWarning: invalid value encountered in double_scalars\n",
      "  return median_diff / max_vis_spread\n"
     ]
    },
    {
     "name": "stdout",
     "output_type": "stream",
     "text": [
      "SP_BS\n"
     ]
    },
    {
     "name": "stderr",
     "output_type": "stream",
     "text": [
      "<ipython-input-50-c62d276b1f6d>:145: RuntimeWarning: invalid value encountered in double_scalars\n",
      "  return median_diff / max_vis_spread\n"
     ]
    },
    {
     "name": "stdout",
     "output_type": "stream",
     "text": [
      "SP_CCKBC\n"
     ]
    },
    {
     "name": "stderr",
     "output_type": "stream",
     "text": [
      "<ipython-input-50-c62d276b1f6d>:145: RuntimeWarning: invalid value encountered in double_scalars\n",
      "  return median_diff / max_vis_spread\n"
     ]
    },
    {
     "name": "stdout",
     "output_type": "stream",
     "text": [
      "SP_Ivy\n"
     ]
    },
    {
     "name": "stderr",
     "output_type": "stream",
     "text": [
      "<ipython-input-50-c62d276b1f6d>:145: RuntimeWarning: invalid value encountered in double_scalars\n",
      "  return median_diff / max_vis_spread\n"
     ]
    },
    {
     "name": "stdout",
     "output_type": "stream",
     "text": [
      "SP_PC\n"
     ]
    },
    {
     "name": "stderr",
     "output_type": "stream",
     "text": [
      "<ipython-input-50-c62d276b1f6d>:145: RuntimeWarning: invalid value encountered in double_scalars\n",
      "  return median_diff / max_vis_spread\n"
     ]
    },
    {
     "name": "stdout",
     "output_type": "stream",
     "text": [
      "SP_PVBC\n"
     ]
    },
    {
     "name": "stderr",
     "output_type": "stream",
     "text": [
      "<ipython-input-50-c62d276b1f6d>:145: RuntimeWarning: invalid value encountered in double_scalars\n",
      "  return median_diff / max_vis_spread\n"
     ]
    },
    {
     "name": "stdout",
     "output_type": "stream",
     "text": [
      "SR_SCA\n"
     ]
    },
    {
     "name": "stderr",
     "output_type": "stream",
     "text": [
      "<ipython-input-50-c62d276b1f6d>:145: RuntimeWarning: invalid value encountered in double_scalars\n",
      "  return median_diff / max_vis_spread\n"
     ]
    }
   ],
   "source": [
    "scores_ALL = []\n",
    "for m in MTYPES:\n",
    "    print(m)\n",
    "    try:\n",
    "        scores_ALL.append(get_scores(m, config, input_d='orig_morphs/', output_d='repaired_morphs/',check_neurites=['axon']))\n",
    "    except:\n",
    "        print(f'comparing {m} for orig vs repaired Failed')\n",
    "\n",
    "\n",
    "scores_ALL_clone = []\n",
    "for m in MTYPES:\n",
    "    print(m)\n",
    "    try:\n",
    "        scores_ALL_clone.append(get_scores(m, config, input_d='orig_morphs/', output_d='08_Cloned_morphs/',check_neurites=['axon']))\n",
    "    except:\n",
    "        print(f'comparing {m} for orig vs cloned Failed')\n",
    "\n",
    "data = {'orig_vs_repaired':scores_ALL,'orig_vs_cloned':scores_ALL_clone}"
   ]
  },
  {
   "cell_type": "code",
   "execution_count": 101,
   "metadata": {},
   "outputs": [
    {
     "data": {
      "text/plain": [
       "(12, 84)"
      ]
     },
     "execution_count": 101,
     "metadata": {},
     "output_type": "execute_result"
    }
   ],
   "source": [
    "np.array(scores_ALL_clone).shape"
   ]
  },
  {
   "cell_type": "code",
   "execution_count": 105,
   "metadata": {},
   "outputs": [
    {
     "name": "stdout",
     "output_type": "stream",
     "text": [
      "file saved as  ca1_morph_scores_repaired_clone_sorted_waxon.p\n"
     ]
    }
   ],
   "source": [
    "if not os.path.exists(file_name_to_dump):\n",
    "    with open(file_name_to_dump,'wb') as f:\n",
    "        pickle.dump(data, f)\n",
    "    print('file saved as ',file_name_to_dump)\n",
    "else:\n",
    "    print('Output file exists')"
   ]
  },
  {
   "cell_type": "markdown",
   "metadata": {},
   "source": [
    "### (NOT USED) For boxplot mean,std,min,max is not useful. we need to get all the data to show the plots"
   ]
  },
  {
   "cell_type": "code",
   "execution_count": 38,
   "metadata": {},
   "outputs": [],
   "source": [
    "original_dir = 'orig_morphs/'\n",
    "clone_dir= '08_Cloned_morphs/'\n",
    "mtype = 'SP_PC'\n",
    "\n",
    "pop1 = neurom.load_morphologies(f\"{original_dir}/{mtype}\")\n",
    "pop2 = neurom.load_morphologies(f\"{clone_dir}/{mtype}\")\n",
    "df1 = morph_stats.extract_dataframe(pop1, config)\n",
    "df2 = morph_stats.extract_dataframe(pop2, config)"
   ]
  },
  {
   "cell_type": "code",
   "execution_count": 48,
   "metadata": {
    "collapsed": true,
    "jupyter": {
     "outputs_hidden": true
    }
   },
   "outputs": [
    {
     "data": {
      "text/plain": [
       "(24, 253)"
      ]
     },
     "execution_count": 48,
     "metadata": {},
     "output_type": "execute_result"
    }
   ],
   "source": [
    "df1.shape"
   ]
  },
  {
   "cell_type": "code",
   "execution_count": 40,
   "metadata": {},
   "outputs": [],
   "source": [
    "neurite_type = 'axon'\n",
    "for k in df1[neurite_type].keys():\n",
    "    data1 = df1[neurite_type][k]\n",
    "    data2 = df2[neurite_type][k]\n",
    "    sc1 = mvs_score(data1, data2, 5)\n",
    "    break"
   ]
  },
  {
   "cell_type": "code",
   "execution_count": 67,
   "metadata": {},
   "outputs": [],
   "source": [
    "import seaborn as sns"
   ]
  },
  {
   "cell_type": "code",
   "execution_count": 77,
   "metadata": {
    "collapsed": true,
    "jupyter": {
     "outputs_hidden": true
    }
   },
   "outputs": [
    {
     "data": {
      "text/html": [
       "<div>\n",
       "<style scoped>\n",
       "    .dataframe tbody tr th:only-of-type {\n",
       "        vertical-align: middle;\n",
       "    }\n",
       "\n",
       "    .dataframe tbody tr th {\n",
       "        vertical-align: top;\n",
       "    }\n",
       "\n",
       "    .dataframe thead th {\n",
       "        text-align: right;\n",
       "    }\n",
       "</style>\n",
       "<table border=\"1\" class=\"dataframe\">\n",
       "  <thead>\n",
       "    <tr style=\"text-align: right;\">\n",
       "      <th></th>\n",
       "      <th>mean_number_of_bifurcations</th>\n",
       "      <th>mean_number_of_sections_per_neurite</th>\n",
       "      <th>mean_number_of_leaves</th>\n",
       "      <th>mean_partition_asymmetry</th>\n",
       "      <th>mean_partition_asymmetry_length</th>\n",
       "      <th>mean_remote_bifurcation_angles</th>\n",
       "      <th>mean_section_areas</th>\n",
       "      <th>mean_section_bif_branch_orders</th>\n",
       "      <th>mean_section_bif_lengths</th>\n",
       "      <th>mean_section_bif_radial_distances</th>\n",
       "      <th>...</th>\n",
       "      <th>mean_section_lengths</th>\n",
       "      <th>mean_section_path_distances</th>\n",
       "      <th>mean_section_radial_distances</th>\n",
       "      <th>mean_section_strahler_orders</th>\n",
       "      <th>mean_section_term_branch_orders</th>\n",
       "      <th>mean_section_term_lengths</th>\n",
       "      <th>mean_section_term_radial_distances</th>\n",
       "      <th>mean_section_tortuosity</th>\n",
       "      <th>mean_section_volumes</th>\n",
       "      <th>mean_total_length_per_neurite</th>\n",
       "    </tr>\n",
       "  </thead>\n",
       "  <tbody>\n",
       "    <tr>\n",
       "      <th>0</th>\n",
       "      <td>40</td>\n",
       "      <td>21.000000</td>\n",
       "      <td>44</td>\n",
       "      <td>0.248515</td>\n",
       "      <td>0.120508</td>\n",
       "      <td>0.650619</td>\n",
       "      <td>98.111655</td>\n",
       "      <td>2.425000</td>\n",
       "      <td>21.596203</td>\n",
       "      <td>43.943748</td>\n",
       "      <td>...</td>\n",
       "      <td>54.100231</td>\n",
       "      <td>102.547291</td>\n",
       "      <td>90.471352</td>\n",
       "      <td>1.678571</td>\n",
       "      <td>4.022727</td>\n",
       "      <td>83.649353</td>\n",
       "      <td>132.769165</td>\n",
       "      <td>1.042929</td>\n",
       "      <td>18.461710</td>\n",
       "      <td>1136.104941</td>\n",
       "    </tr>\n",
       "    <tr>\n",
       "      <th>1</th>\n",
       "      <td>34</td>\n",
       "      <td>15.400000</td>\n",
       "      <td>39</td>\n",
       "      <td>0.239411</td>\n",
       "      <td>0.117012</td>\n",
       "      <td>0.650032</td>\n",
       "      <td>213.090851</td>\n",
       "      <td>2.500000</td>\n",
       "      <td>27.954250</td>\n",
       "      <td>55.036819</td>\n",
       "      <td>...</td>\n",
       "      <td>80.391121</td>\n",
       "      <td>136.553648</td>\n",
       "      <td>121.153069</td>\n",
       "      <td>1.701299</td>\n",
       "      <td>4.025641</td>\n",
       "      <td>133.227356</td>\n",
       "      <td>185.984344</td>\n",
       "      <td>1.069487</td>\n",
       "      <td>51.262668</td>\n",
       "      <td>1238.023335</td>\n",
       "    </tr>\n",
       "    <tr>\n",
       "      <th>2</th>\n",
       "      <td>22</td>\n",
       "      <td>12.000000</td>\n",
       "      <td>26</td>\n",
       "      <td>0.284957</td>\n",
       "      <td>0.166417</td>\n",
       "      <td>0.603298</td>\n",
       "      <td>154.032106</td>\n",
       "      <td>1.545455</td>\n",
       "      <td>27.374062</td>\n",
       "      <td>48.802212</td>\n",
       "      <td>...</td>\n",
       "      <td>68.536667</td>\n",
       "      <td>117.137327</td>\n",
       "      <td>108.313515</td>\n",
       "      <td>1.583333</td>\n",
       "      <td>3.000000</td>\n",
       "      <td>103.366562</td>\n",
       "      <td>158.669220</td>\n",
       "      <td>1.049354</td>\n",
       "      <td>35.854987</td>\n",
       "      <td>822.440041</td>\n",
       "    </tr>\n",
       "    <tr>\n",
       "      <th>3</th>\n",
       "      <td>34</td>\n",
       "      <td>14.600000</td>\n",
       "      <td>39</td>\n",
       "      <td>0.158964</td>\n",
       "      <td>0.084745</td>\n",
       "      <td>0.698248</td>\n",
       "      <td>147.418391</td>\n",
       "      <td>1.970588</td>\n",
       "      <td>32.769920</td>\n",
       "      <td>61.235931</td>\n",
       "      <td>...</td>\n",
       "      <td>63.575363</td>\n",
       "      <td>127.575692</td>\n",
       "      <td>115.066437</td>\n",
       "      <td>1.671233</td>\n",
       "      <td>3.461538</td>\n",
       "      <td>90.431389</td>\n",
       "      <td>161.995575</td>\n",
       "      <td>1.037084</td>\n",
       "      <td>37.890253</td>\n",
       "      <td>928.200299</td>\n",
       "    </tr>\n",
       "    <tr>\n",
       "      <th>4</th>\n",
       "      <td>20</td>\n",
       "      <td>15.333333</td>\n",
       "      <td>25</td>\n",
       "      <td>0.229457</td>\n",
       "      <td>0.105160</td>\n",
       "      <td>0.917319</td>\n",
       "      <td>143.780280</td>\n",
       "      <td>1.800000</td>\n",
       "      <td>25.240667</td>\n",
       "      <td>44.668690</td>\n",
       "      <td>...</td>\n",
       "      <td>63.124130</td>\n",
       "      <td>114.355789</td>\n",
       "      <td>97.422966</td>\n",
       "      <td>1.608696</td>\n",
       "      <td>3.400000</td>\n",
       "      <td>93.862473</td>\n",
       "      <td>140.182495</td>\n",
       "      <td>1.060517</td>\n",
       "      <td>29.312388</td>\n",
       "      <td>967.903264</td>\n",
       "    </tr>\n",
       "    <tr>\n",
       "      <th>...</th>\n",
       "      <td>...</td>\n",
       "      <td>...</td>\n",
       "      <td>...</td>\n",
       "      <td>...</td>\n",
       "      <td>...</td>\n",
       "      <td>...</td>\n",
       "      <td>...</td>\n",
       "      <td>...</td>\n",
       "      <td>...</td>\n",
       "      <td>...</td>\n",
       "      <td>...</td>\n",
       "      <td>...</td>\n",
       "      <td>...</td>\n",
       "      <td>...</td>\n",
       "      <td>...</td>\n",
       "      <td>...</td>\n",
       "      <td>...</td>\n",
       "      <td>...</td>\n",
       "      <td>...</td>\n",
       "      <td>...</td>\n",
       "      <td>...</td>\n",
       "    </tr>\n",
       "    <tr>\n",
       "      <th>2515</th>\n",
       "      <td>47</td>\n",
       "      <td>35.666667</td>\n",
       "      <td>56</td>\n",
       "      <td>0.197767</td>\n",
       "      <td>0.064175</td>\n",
       "      <td>0.669120</td>\n",
       "      <td>113.670513</td>\n",
       "      <td>2.702128</td>\n",
       "      <td>38.492664</td>\n",
       "      <td>65.990158</td>\n",
       "      <td>...</td>\n",
       "      <td>61.185158</td>\n",
       "      <td>137.804879</td>\n",
       "      <td>115.075706</td>\n",
       "      <td>1.682243</td>\n",
       "      <td>4.410714</td>\n",
       "      <td>83.136299</td>\n",
       "      <td>160.799149</td>\n",
       "      <td>1.062445</td>\n",
       "      <td>18.913235</td>\n",
       "      <td>2182.270713</td>\n",
       "    </tr>\n",
       "    <tr>\n",
       "      <th>2516</th>\n",
       "      <td>46</td>\n",
       "      <td>19.400000</td>\n",
       "      <td>51</td>\n",
       "      <td>0.206320</td>\n",
       "      <td>0.086920</td>\n",
       "      <td>0.830730</td>\n",
       "      <td>128.365329</td>\n",
       "      <td>2.217391</td>\n",
       "      <td>33.682526</td>\n",
       "      <td>66.833138</td>\n",
       "      <td>...</td>\n",
       "      <td>62.041000</td>\n",
       "      <td>134.759278</td>\n",
       "      <td>117.272835</td>\n",
       "      <td>1.680412</td>\n",
       "      <td>3.803922</td>\n",
       "      <td>87.619247</td>\n",
       "      <td>162.767456</td>\n",
       "      <td>1.051041</td>\n",
       "      <td>27.597393</td>\n",
       "      <td>1203.595468</td>\n",
       "    </tr>\n",
       "    <tr>\n",
       "      <th>2517</th>\n",
       "      <td>26</td>\n",
       "      <td>18.333333</td>\n",
       "      <td>29</td>\n",
       "      <td>0.272207</td>\n",
       "      <td>0.097002</td>\n",
       "      <td>0.811132</td>\n",
       "      <td>169.331148</td>\n",
       "      <td>2.423077</td>\n",
       "      <td>34.775475</td>\n",
       "      <td>70.622467</td>\n",
       "      <td>...</td>\n",
       "      <td>65.389801</td>\n",
       "      <td>142.841507</td>\n",
       "      <td>125.972923</td>\n",
       "      <td>1.600000</td>\n",
       "      <td>3.965517</td>\n",
       "      <td>92.837143</td>\n",
       "      <td>175.597473</td>\n",
       "      <td>1.036844</td>\n",
       "      <td>46.375094</td>\n",
       "      <td>1198.813153</td>\n",
       "    </tr>\n",
       "    <tr>\n",
       "      <th>2518</th>\n",
       "      <td>34</td>\n",
       "      <td>14.600000</td>\n",
       "      <td>39</td>\n",
       "      <td>0.158964</td>\n",
       "      <td>0.085158</td>\n",
       "      <td>0.687783</td>\n",
       "      <td>156.807825</td>\n",
       "      <td>1.970588</td>\n",
       "      <td>36.435013</td>\n",
       "      <td>64.291809</td>\n",
       "      <td>...</td>\n",
       "      <td>68.008011</td>\n",
       "      <td>134.789523</td>\n",
       "      <td>122.244865</td>\n",
       "      <td>1.671233</td>\n",
       "      <td>3.461538</td>\n",
       "      <td>95.533195</td>\n",
       "      <td>172.768051</td>\n",
       "      <td>1.036647</td>\n",
       "      <td>40.277780</td>\n",
       "      <td>992.917083</td>\n",
       "    </tr>\n",
       "    <tr>\n",
       "      <th>2519</th>\n",
       "      <td>31</td>\n",
       "      <td>32.000000</td>\n",
       "      <td>33</td>\n",
       "      <td>0.211645</td>\n",
       "      <td>0.049626</td>\n",
       "      <td>0.895746</td>\n",
       "      <td>106.518251</td>\n",
       "      <td>2.516129</td>\n",
       "      <td>27.200388</td>\n",
       "      <td>54.209373</td>\n",
       "      <td>...</td>\n",
       "      <td>61.201225</td>\n",
       "      <td>122.163888</td>\n",
       "      <td>106.658806</td>\n",
       "      <td>1.687500</td>\n",
       "      <td>4.242424</td>\n",
       "      <td>93.141411</td>\n",
       "      <td>155.929474</td>\n",
       "      <td>1.029914</td>\n",
       "      <td>19.454601</td>\n",
       "      <td>1958.439271</td>\n",
       "    </tr>\n",
       "  </tbody>\n",
       "</table>\n",
       "<p>2520 rows × 21 columns</p>\n",
       "</div>"
      ],
      "text/plain": [
       "      mean_number_of_bifurcations  mean_number_of_sections_per_neurite  \\\n",
       "0                              40                            21.000000   \n",
       "1                              34                            15.400000   \n",
       "2                              22                            12.000000   \n",
       "3                              34                            14.600000   \n",
       "4                              20                            15.333333   \n",
       "...                           ...                                  ...   \n",
       "2515                           47                            35.666667   \n",
       "2516                           46                            19.400000   \n",
       "2517                           26                            18.333333   \n",
       "2518                           34                            14.600000   \n",
       "2519                           31                            32.000000   \n",
       "\n",
       "      mean_number_of_leaves  mean_partition_asymmetry  \\\n",
       "0                        44                  0.248515   \n",
       "1                        39                  0.239411   \n",
       "2                        26                  0.284957   \n",
       "3                        39                  0.158964   \n",
       "4                        25                  0.229457   \n",
       "...                     ...                       ...   \n",
       "2515                     56                  0.197767   \n",
       "2516                     51                  0.206320   \n",
       "2517                     29                  0.272207   \n",
       "2518                     39                  0.158964   \n",
       "2519                     33                  0.211645   \n",
       "\n",
       "      mean_partition_asymmetry_length  mean_remote_bifurcation_angles  \\\n",
       "0                            0.120508                        0.650619   \n",
       "1                            0.117012                        0.650032   \n",
       "2                            0.166417                        0.603298   \n",
       "3                            0.084745                        0.698248   \n",
       "4                            0.105160                        0.917319   \n",
       "...                               ...                             ...   \n",
       "2515                         0.064175                        0.669120   \n",
       "2516                         0.086920                        0.830730   \n",
       "2517                         0.097002                        0.811132   \n",
       "2518                         0.085158                        0.687783   \n",
       "2519                         0.049626                        0.895746   \n",
       "\n",
       "      mean_section_areas  mean_section_bif_branch_orders  \\\n",
       "0              98.111655                        2.425000   \n",
       "1             213.090851                        2.500000   \n",
       "2             154.032106                        1.545455   \n",
       "3             147.418391                        1.970588   \n",
       "4             143.780280                        1.800000   \n",
       "...                  ...                             ...   \n",
       "2515          113.670513                        2.702128   \n",
       "2516          128.365329                        2.217391   \n",
       "2517          169.331148                        2.423077   \n",
       "2518          156.807825                        1.970588   \n",
       "2519          106.518251                        2.516129   \n",
       "\n",
       "      mean_section_bif_lengths  mean_section_bif_radial_distances  ...  \\\n",
       "0                    21.596203                          43.943748  ...   \n",
       "1                    27.954250                          55.036819  ...   \n",
       "2                    27.374062                          48.802212  ...   \n",
       "3                    32.769920                          61.235931  ...   \n",
       "4                    25.240667                          44.668690  ...   \n",
       "...                        ...                                ...  ...   \n",
       "2515                 38.492664                          65.990158  ...   \n",
       "2516                 33.682526                          66.833138  ...   \n",
       "2517                 34.775475                          70.622467  ...   \n",
       "2518                 36.435013                          64.291809  ...   \n",
       "2519                 27.200388                          54.209373  ...   \n",
       "\n",
       "      mean_section_lengths  mean_section_path_distances  \\\n",
       "0                54.100231                   102.547291   \n",
       "1                80.391121                   136.553648   \n",
       "2                68.536667                   117.137327   \n",
       "3                63.575363                   127.575692   \n",
       "4                63.124130                   114.355789   \n",
       "...                    ...                          ...   \n",
       "2515             61.185158                   137.804879   \n",
       "2516             62.041000                   134.759278   \n",
       "2517             65.389801                   142.841507   \n",
       "2518             68.008011                   134.789523   \n",
       "2519             61.201225                   122.163888   \n",
       "\n",
       "      mean_section_radial_distances  mean_section_strahler_orders  \\\n",
       "0                         90.471352                      1.678571   \n",
       "1                        121.153069                      1.701299   \n",
       "2                        108.313515                      1.583333   \n",
       "3                        115.066437                      1.671233   \n",
       "4                         97.422966                      1.608696   \n",
       "...                             ...                           ...   \n",
       "2515                     115.075706                      1.682243   \n",
       "2516                     117.272835                      1.680412   \n",
       "2517                     125.972923                      1.600000   \n",
       "2518                     122.244865                      1.671233   \n",
       "2519                     106.658806                      1.687500   \n",
       "\n",
       "      mean_section_term_branch_orders  mean_section_term_lengths  \\\n",
       "0                            4.022727                  83.649353   \n",
       "1                            4.025641                 133.227356   \n",
       "2                            3.000000                 103.366562   \n",
       "3                            3.461538                  90.431389   \n",
       "4                            3.400000                  93.862473   \n",
       "...                               ...                        ...   \n",
       "2515                         4.410714                  83.136299   \n",
       "2516                         3.803922                  87.619247   \n",
       "2517                         3.965517                  92.837143   \n",
       "2518                         3.461538                  95.533195   \n",
       "2519                         4.242424                  93.141411   \n",
       "\n",
       "      mean_section_term_radial_distances  mean_section_tortuosity  \\\n",
       "0                             132.769165                 1.042929   \n",
       "1                             185.984344                 1.069487   \n",
       "2                             158.669220                 1.049354   \n",
       "3                             161.995575                 1.037084   \n",
       "4                             140.182495                 1.060517   \n",
       "...                                  ...                      ...   \n",
       "2515                          160.799149                 1.062445   \n",
       "2516                          162.767456                 1.051041   \n",
       "2517                          175.597473                 1.036844   \n",
       "2518                          172.768051                 1.036647   \n",
       "2519                          155.929474                 1.029914   \n",
       "\n",
       "      mean_section_volumes  mean_total_length_per_neurite  \n",
       "0                18.461710                    1136.104941  \n",
       "1                51.262668                    1238.023335  \n",
       "2                35.854987                     822.440041  \n",
       "3                37.890253                     928.200299  \n",
       "4                29.312388                     967.903264  \n",
       "...                    ...                            ...  \n",
       "2515             18.913235                    2182.270713  \n",
       "2516             27.597393                    1203.595468  \n",
       "2517             46.375094                    1198.813153  \n",
       "2518             40.277780                     992.917083  \n",
       "2519             19.454601                    1958.439271  \n",
       "\n",
       "[2520 rows x 21 columns]"
      ]
     },
     "execution_count": 77,
     "metadata": {},
     "output_type": "execute_result"
    }
   ],
   "source": [
    "df2.basal_dendrite.iloc[:,2::4]"
   ]
  },
  {
   "cell_type": "code",
   "execution_count": 97,
   "metadata": {
    "collapsed": true,
    "jupyter": {
     "outputs_hidden": true
    }
   },
   "outputs": [
    {
     "data": {
      "text/plain": [
       "<AxesSubplot:>"
      ]
     },
     "execution_count": 97,
     "metadata": {},
     "output_type": "execute_result"
    },
    {
     "data": {
      "image/png": "[encoded data removed]",
      "text/plain": [
       "<Figure size 1440x360 with 1 Axes>"
      ]
     },
     "metadata": {
      "needs_background": "light"
     },
     "output_type": "display_data"
    }
   ],
   "source": [
    "f,ax = plt.subplots(1,1,figsize=(20,5))\n",
    "sns.boxplot(data=df2.basal_dendrite.iloc[:,top_k_feature_ind],ax=ax)"
   ]
  },
  {
   "cell_type": "markdown",
   "metadata": {},
   "source": [
    "# Reload the file (independent code starting from here)\n",
    "\n",
    "* After the calculation of the morphometrics, we need to show only the most important features. To do that, lets get the top K diverging features across all exc and inh mtypes and plot their boxplot. 5 x num_exc and 5 x num_inh in general. To simplify and if they share the same 5 most important features, one can also plot the boxplots in 5 x num_mtypes fashion"
   ]
  },
  {
   "cell_type": "code",
   "execution_count": 6,
   "metadata": {},
   "outputs": [],
   "source": [
    "import seaborn as sns\n",
    "import matplotlib.pyplot as plt"
   ]
  },
  {
   "cell_type": "code",
   "execution_count": 7,
   "metadata": {},
   "outputs": [
    {
     "name": "stdout",
     "output_type": "stream",
     "text": [
      "Loaded ca1_morph_scores_repaired_clone_sorted_waxon.p\n"
     ]
    }
   ],
   "source": [
    "with open(file_name_to_dump,'rb') as f:\n",
    "    loaded_f = pickle.load(f)\n",
    "    print(f'Loaded {file_name_to_dump}')"
   ]
  },
  {
   "cell_type": "code",
   "execution_count": 8,
   "metadata": {},
   "outputs": [],
   "source": [
    "metrics = list(config['neurite'].keys())"
   ]
  },
  {
   "cell_type": "code",
   "execution_count": 9,
   "metadata": {},
   "outputs": [],
   "source": [
    "config_names = []\n",
    "for sec_type in ['axon']:\n",
    "    for metric in metrics:\n",
    "        for sub in ['min', 'max', 'mean', 'std']:\n",
    "            name = f'{sec_type}_{metric}_{sub}'\n",
    "            config_names.append(name)"
   ]
  },
  {
   "cell_type": "code",
   "execution_count": 10,
   "metadata": {
    "jupyter": {
     "source_hidden": true
    }
   },
   "outputs": [],
   "source": [
    "basal_apical_border_idx = int(len(config_names)/3)\n",
    "apical_axon_border_idx = int(2*len(config_names)/3)"
   ]
  },
  {
   "cell_type": "code",
   "execution_count": 11,
   "metadata": {},
   "outputs": [
    {
     "data": {
      "text/html": [
       "<div>\n",
       "<style scoped>\n",
       "    .dataframe tbody tr th:only-of-type {\n",
       "        vertical-align: middle;\n",
       "    }\n",
       "\n",
       "    .dataframe tbody tr th {\n",
       "        vertical-align: top;\n",
       "    }\n",
       "\n",
       "    .dataframe thead th {\n",
       "        text-align: right;\n",
       "    }\n",
       "</style>\n",
       "<table border=\"1\" class=\"dataframe\">\n",
       "  <thead>\n",
       "    <tr style=\"text-align: right;\">\n",
       "      <th></th>\n",
       "      <th>axon_number_of_bifurcations_min</th>\n",
       "      <th>axon_number_of_bifurcations_max</th>\n",
       "      <th>axon_number_of_bifurcations_mean</th>\n",
       "      <th>axon_number_of_bifurcations_std</th>\n",
       "      <th>axon_number_of_sections_per_neurite_min</th>\n",
       "      <th>axon_number_of_sections_per_neurite_max</th>\n",
       "      <th>axon_number_of_sections_per_neurite_mean</th>\n",
       "      <th>axon_number_of_sections_per_neurite_std</th>\n",
       "      <th>axon_number_of_leaves_min</th>\n",
       "      <th>axon_number_of_leaves_max</th>\n",
       "      <th>...</th>\n",
       "      <th>axon_section_tortuosity_mean</th>\n",
       "      <th>axon_section_tortuosity_std</th>\n",
       "      <th>axon_section_volumes_min</th>\n",
       "      <th>axon_section_volumes_max</th>\n",
       "      <th>axon_section_volumes_mean</th>\n",
       "      <th>axon_section_volumes_std</th>\n",
       "      <th>axon_total_length_per_neurite_min</th>\n",
       "      <th>axon_total_length_per_neurite_max</th>\n",
       "      <th>axon_total_length_per_neurite_mean</th>\n",
       "      <th>axon_total_length_per_neurite_std</th>\n",
       "    </tr>\n",
       "  </thead>\n",
       "  <tbody>\n",
       "    <tr>\n",
       "      <th>0</th>\n",
       "      <td>0.000000</td>\n",
       "      <td>0.000000</td>\n",
       "      <td>0.000000</td>\n",
       "      <td>0.000000</td>\n",
       "      <td>0.000000</td>\n",
       "      <td>0.000000</td>\n",
       "      <td>0.000000</td>\n",
       "      <td>0.0</td>\n",
       "      <td>0.000000</td>\n",
       "      <td>0.000000</td>\n",
       "      <td>...</td>\n",
       "      <td>0.000014</td>\n",
       "      <td>0.000093</td>\n",
       "      <td>0.000036</td>\n",
       "      <td>0.019386</td>\n",
       "      <td>0.066518</td>\n",
       "      <td>0.142922</td>\n",
       "      <td>0.028674</td>\n",
       "      <td>0.028674</td>\n",
       "      <td>0.028674</td>\n",
       "      <td>0.0</td>\n",
       "    </tr>\n",
       "    <tr>\n",
       "      <th>1</th>\n",
       "      <td>0.000000</td>\n",
       "      <td>0.000000</td>\n",
       "      <td>0.000000</td>\n",
       "      <td>0.000000</td>\n",
       "      <td>0.000000</td>\n",
       "      <td>0.000000</td>\n",
       "      <td>0.000000</td>\n",
       "      <td>0.0</td>\n",
       "      <td>0.000000</td>\n",
       "      <td>0.000000</td>\n",
       "      <td>...</td>\n",
       "      <td>0.000000</td>\n",
       "      <td>0.000158</td>\n",
       "      <td>0.006362</td>\n",
       "      <td>0.023841</td>\n",
       "      <td>0.017729</td>\n",
       "      <td>0.044849</td>\n",
       "      <td>0.014573</td>\n",
       "      <td>0.014573</td>\n",
       "      <td>0.014573</td>\n",
       "      <td>0.0</td>\n",
       "    </tr>\n",
       "    <tr>\n",
       "      <th>2</th>\n",
       "      <td>0.000000</td>\n",
       "      <td>0.000000</td>\n",
       "      <td>0.000000</td>\n",
       "      <td>0.000000</td>\n",
       "      <td>0.000000</td>\n",
       "      <td>0.000000</td>\n",
       "      <td>0.000000</td>\n",
       "      <td>0.0</td>\n",
       "      <td>0.000000</td>\n",
       "      <td>0.000000</td>\n",
       "      <td>...</td>\n",
       "      <td>0.000000</td>\n",
       "      <td>0.000304</td>\n",
       "      <td>0.037027</td>\n",
       "      <td>0.086056</td>\n",
       "      <td>0.018110</td>\n",
       "      <td>0.258184</td>\n",
       "      <td>0.005179</td>\n",
       "      <td>0.005179</td>\n",
       "      <td>0.005179</td>\n",
       "      <td>0.0</td>\n",
       "    </tr>\n",
       "    <tr>\n",
       "      <th>3</th>\n",
       "      <td>0.000000</td>\n",
       "      <td>0.000000</td>\n",
       "      <td>0.000000</td>\n",
       "      <td>0.000000</td>\n",
       "      <td>0.000000</td>\n",
       "      <td>0.000000</td>\n",
       "      <td>0.000000</td>\n",
       "      <td>0.0</td>\n",
       "      <td>0.000000</td>\n",
       "      <td>0.000000</td>\n",
       "      <td>...</td>\n",
       "      <td>0.011122</td>\n",
       "      <td>0.038888</td>\n",
       "      <td>0.194976</td>\n",
       "      <td>0.011766</td>\n",
       "      <td>0.007759</td>\n",
       "      <td>0.142561</td>\n",
       "      <td>0.000593</td>\n",
       "      <td>0.000593</td>\n",
       "      <td>0.000593</td>\n",
       "      <td>0.0</td>\n",
       "    </tr>\n",
       "    <tr>\n",
       "      <th>4</th>\n",
       "      <td>0.000000</td>\n",
       "      <td>0.000000</td>\n",
       "      <td>0.000000</td>\n",
       "      <td>0.000000</td>\n",
       "      <td>0.000000</td>\n",
       "      <td>0.000000</td>\n",
       "      <td>0.000000</td>\n",
       "      <td>0.0</td>\n",
       "      <td>0.000000</td>\n",
       "      <td>0.000000</td>\n",
       "      <td>...</td>\n",
       "      <td>0.023740</td>\n",
       "      <td>0.054361</td>\n",
       "      <td>0.038938</td>\n",
       "      <td>0.120418</td>\n",
       "      <td>0.022485</td>\n",
       "      <td>0.051899</td>\n",
       "      <td>0.025890</td>\n",
       "      <td>0.025890</td>\n",
       "      <td>0.025890</td>\n",
       "      <td>0.0</td>\n",
       "    </tr>\n",
       "    <tr>\n",
       "      <th>5</th>\n",
       "      <td>0.000000</td>\n",
       "      <td>0.000000</td>\n",
       "      <td>0.000000</td>\n",
       "      <td>0.000000</td>\n",
       "      <td>0.000000</td>\n",
       "      <td>0.000000</td>\n",
       "      <td>0.000000</td>\n",
       "      <td>0.0</td>\n",
       "      <td>0.000000</td>\n",
       "      <td>0.000000</td>\n",
       "      <td>...</td>\n",
       "      <td>0.165562</td>\n",
       "      <td>0.000013</td>\n",
       "      <td>0.185318</td>\n",
       "      <td>0.078861</td>\n",
       "      <td>0.002927</td>\n",
       "      <td>0.160993</td>\n",
       "      <td>0.018382</td>\n",
       "      <td>0.018382</td>\n",
       "      <td>0.018382</td>\n",
       "      <td>0.0</td>\n",
       "    </tr>\n",
       "    <tr>\n",
       "      <th>6</th>\n",
       "      <td>0.000000</td>\n",
       "      <td>0.000000</td>\n",
       "      <td>0.000000</td>\n",
       "      <td>0.000000</td>\n",
       "      <td>0.000000</td>\n",
       "      <td>0.000000</td>\n",
       "      <td>0.000000</td>\n",
       "      <td>0.0</td>\n",
       "      <td>0.000000</td>\n",
       "      <td>0.000000</td>\n",
       "      <td>...</td>\n",
       "      <td>0.190711</td>\n",
       "      <td>0.196487</td>\n",
       "      <td>0.111514</td>\n",
       "      <td>0.010185</td>\n",
       "      <td>0.019452</td>\n",
       "      <td>0.233344</td>\n",
       "      <td>0.006766</td>\n",
       "      <td>0.006766</td>\n",
       "      <td>0.006766</td>\n",
       "      <td>0.0</td>\n",
       "    </tr>\n",
       "    <tr>\n",
       "      <th>7</th>\n",
       "      <td>0.000000</td>\n",
       "      <td>0.000000</td>\n",
       "      <td>0.000000</td>\n",
       "      <td>0.000000</td>\n",
       "      <td>0.000000</td>\n",
       "      <td>0.000000</td>\n",
       "      <td>0.000000</td>\n",
       "      <td>0.0</td>\n",
       "      <td>0.000000</td>\n",
       "      <td>0.000000</td>\n",
       "      <td>...</td>\n",
       "      <td>0.000106</td>\n",
       "      <td>0.185206</td>\n",
       "      <td>0.025339</td>\n",
       "      <td>0.005415</td>\n",
       "      <td>0.022856</td>\n",
       "      <td>0.050359</td>\n",
       "      <td>0.000000</td>\n",
       "      <td>0.000000</td>\n",
       "      <td>0.000000</td>\n",
       "      <td>0.0</td>\n",
       "    </tr>\n",
       "    <tr>\n",
       "      <th>8</th>\n",
       "      <td>0.000000</td>\n",
       "      <td>0.000000</td>\n",
       "      <td>0.000000</td>\n",
       "      <td>0.000000</td>\n",
       "      <td>0.000000</td>\n",
       "      <td>0.000000</td>\n",
       "      <td>0.000000</td>\n",
       "      <td>0.0</td>\n",
       "      <td>0.000000</td>\n",
       "      <td>0.000000</td>\n",
       "      <td>...</td>\n",
       "      <td>0.007349</td>\n",
       "      <td>0.187562</td>\n",
       "      <td>0.020299</td>\n",
       "      <td>0.229330</td>\n",
       "      <td>0.030919</td>\n",
       "      <td>0.141574</td>\n",
       "      <td>0.000691</td>\n",
       "      <td>0.000691</td>\n",
       "      <td>0.000691</td>\n",
       "      <td>0.0</td>\n",
       "    </tr>\n",
       "    <tr>\n",
       "      <th>9</th>\n",
       "      <td>0.560311</td>\n",
       "      <td>0.560311</td>\n",
       "      <td>0.560311</td>\n",
       "      <td>0.560311</td>\n",
       "      <td>0.560311</td>\n",
       "      <td>0.560311</td>\n",
       "      <td>0.560311</td>\n",
       "      <td>0.0</td>\n",
       "      <td>0.560311</td>\n",
       "      <td>0.560311</td>\n",
       "      <td>...</td>\n",
       "      <td>0.032952</td>\n",
       "      <td>0.098056</td>\n",
       "      <td>0.000086</td>\n",
       "      <td>0.137358</td>\n",
       "      <td>0.003999</td>\n",
       "      <td>0.074982</td>\n",
       "      <td>0.715785</td>\n",
       "      <td>0.715785</td>\n",
       "      <td>0.715785</td>\n",
       "      <td>0.0</td>\n",
       "    </tr>\n",
       "    <tr>\n",
       "      <th>10</th>\n",
       "      <td>0.000000</td>\n",
       "      <td>0.000000</td>\n",
       "      <td>0.000000</td>\n",
       "      <td>0.000000</td>\n",
       "      <td>0.000000</td>\n",
       "      <td>0.000000</td>\n",
       "      <td>0.000000</td>\n",
       "      <td>0.0</td>\n",
       "      <td>0.000000</td>\n",
       "      <td>0.000000</td>\n",
       "      <td>...</td>\n",
       "      <td>0.000001</td>\n",
       "      <td>0.000018</td>\n",
       "      <td>0.061440</td>\n",
       "      <td>0.032778</td>\n",
       "      <td>0.002624</td>\n",
       "      <td>0.015447</td>\n",
       "      <td>0.002413</td>\n",
       "      <td>0.002413</td>\n",
       "      <td>0.002413</td>\n",
       "      <td>0.0</td>\n",
       "    </tr>\n",
       "    <tr>\n",
       "      <th>11</th>\n",
       "      <td>0.000000</td>\n",
       "      <td>0.000000</td>\n",
       "      <td>0.000000</td>\n",
       "      <td>0.000000</td>\n",
       "      <td>0.000000</td>\n",
       "      <td>0.000000</td>\n",
       "      <td>0.000000</td>\n",
       "      <td>0.0</td>\n",
       "      <td>0.000000</td>\n",
       "      <td>0.000000</td>\n",
       "      <td>...</td>\n",
       "      <td>0.000000</td>\n",
       "      <td>0.000008</td>\n",
       "      <td>0.042439</td>\n",
       "      <td>0.022525</td>\n",
       "      <td>0.064406</td>\n",
       "      <td>0.040798</td>\n",
       "      <td>0.072301</td>\n",
       "      <td>0.072301</td>\n",
       "      <td>0.072301</td>\n",
       "      <td>0.0</td>\n",
       "    </tr>\n",
       "  </tbody>\n",
       "</table>\n",
       "<p>12 rows × 84 columns</p>\n",
       "</div>"
      ],
      "text/plain": [
       "    axon_number_of_bifurcations_min  axon_number_of_bifurcations_max  \\\n",
       "0                          0.000000                         0.000000   \n",
       "1                          0.000000                         0.000000   \n",
       "2                          0.000000                         0.000000   \n",
       "3                          0.000000                         0.000000   \n",
       "4                          0.000000                         0.000000   \n",
       "5                          0.000000                         0.000000   \n",
       "6                          0.000000                         0.000000   \n",
       "7                          0.000000                         0.000000   \n",
       "8                          0.000000                         0.000000   \n",
       "9                          0.560311                         0.560311   \n",
       "10                         0.000000                         0.000000   \n",
       "11                         0.000000                         0.000000   \n",
       "\n",
       "    axon_number_of_bifurcations_mean  axon_number_of_bifurcations_std  \\\n",
       "0                           0.000000                         0.000000   \n",
       "1                           0.000000                         0.000000   \n",
       "2                           0.000000                         0.000000   \n",
       "3                           0.000000                         0.000000   \n",
       "4                           0.000000                         0.000000   \n",
       "5                           0.000000                         0.000000   \n",
       "6                           0.000000                         0.000000   \n",
       "7                           0.000000                         0.000000   \n",
       "8                           0.000000                         0.000000   \n",
       "9                           0.560311                         0.560311   \n",
       "10                          0.000000                         0.000000   \n",
       "11                          0.000000                         0.000000   \n",
       "\n",
       "    axon_number_of_sections_per_neurite_min  \\\n",
       "0                                  0.000000   \n",
       "1                                  0.000000   \n",
       "2                                  0.000000   \n",
       "3                                  0.000000   \n",
       "4                                  0.000000   \n",
       "5                                  0.000000   \n",
       "6                                  0.000000   \n",
       "7                                  0.000000   \n",
       "8                                  0.000000   \n",
       "9                                  0.560311   \n",
       "10                                 0.000000   \n",
       "11                                 0.000000   \n",
       "\n",
       "    axon_number_of_sections_per_neurite_max  \\\n",
       "0                                  0.000000   \n",
       "1                                  0.000000   \n",
       "2                                  0.000000   \n",
       "3                                  0.000000   \n",
       "4                                  0.000000   \n",
       "5                                  0.000000   \n",
       "6                                  0.000000   \n",
       "7                                  0.000000   \n",
       "8                                  0.000000   \n",
       "9                                  0.560311   \n",
       "10                                 0.000000   \n",
       "11                                 0.000000   \n",
       "\n",
       "    axon_number_of_sections_per_neurite_mean  \\\n",
       "0                                   0.000000   \n",
       "1                                   0.000000   \n",
       "2                                   0.000000   \n",
       "3                                   0.000000   \n",
       "4                                   0.000000   \n",
       "5                                   0.000000   \n",
       "6                                   0.000000   \n",
       "7                                   0.000000   \n",
       "8                                   0.000000   \n",
       "9                                   0.560311   \n",
       "10                                  0.000000   \n",
       "11                                  0.000000   \n",
       "\n",
       "    axon_number_of_sections_per_neurite_std  axon_number_of_leaves_min  \\\n",
       "0                                       0.0                   0.000000   \n",
       "1                                       0.0                   0.000000   \n",
       "2                                       0.0                   0.000000   \n",
       "3                                       0.0                   0.000000   \n",
       "4                                       0.0                   0.000000   \n",
       "5                                       0.0                   0.000000   \n",
       "6                                       0.0                   0.000000   \n",
       "7                                       0.0                   0.000000   \n",
       "8                                       0.0                   0.000000   \n",
       "9                                       0.0                   0.560311   \n",
       "10                                      0.0                   0.000000   \n",
       "11                                      0.0                   0.000000   \n",
       "\n",
       "    axon_number_of_leaves_max  ...  axon_section_tortuosity_mean  \\\n",
       "0                    0.000000  ...                      0.000014   \n",
       "1                    0.000000  ...                      0.000000   \n",
       "2                    0.000000  ...                      0.000000   \n",
       "3                    0.000000  ...                      0.011122   \n",
       "4                    0.000000  ...                      0.023740   \n",
       "5                    0.000000  ...                      0.165562   \n",
       "6                    0.000000  ...                      0.190711   \n",
       "7                    0.000000  ...                      0.000106   \n",
       "8                    0.000000  ...                      0.007349   \n",
       "9                    0.560311  ...                      0.032952   \n",
       "10                   0.000000  ...                      0.000001   \n",
       "11                   0.000000  ...                      0.000000   \n",
       "\n",
       "    axon_section_tortuosity_std  axon_section_volumes_min  \\\n",
       "0                      0.000093                  0.000036   \n",
       "1                      0.000158                  0.006362   \n",
       "2                      0.000304                  0.037027   \n",
       "3                      0.038888                  0.194976   \n",
       "4                      0.054361                  0.038938   \n",
       "5                      0.000013                  0.185318   \n",
       "6                      0.196487                  0.111514   \n",
       "7                      0.185206                  0.025339   \n",
       "8                      0.187562                  0.020299   \n",
       "9                      0.098056                  0.000086   \n",
       "10                     0.000018                  0.061440   \n",
       "11                     0.000008                  0.042439   \n",
       "\n",
       "    axon_section_volumes_max  axon_section_volumes_mean  \\\n",
       "0                   0.019386                   0.066518   \n",
       "1                   0.023841                   0.017729   \n",
       "2                   0.086056                   0.018110   \n",
       "3                   0.011766                   0.007759   \n",
       "4                   0.120418                   0.022485   \n",
       "5                   0.078861                   0.002927   \n",
       "6                   0.010185                   0.019452   \n",
       "7                   0.005415                   0.022856   \n",
       "8                   0.229330                   0.030919   \n",
       "9                   0.137358                   0.003999   \n",
       "10                  0.032778                   0.002624   \n",
       "11                  0.022525                   0.064406   \n",
       "\n",
       "    axon_section_volumes_std  axon_total_length_per_neurite_min  \\\n",
       "0                   0.142922                           0.028674   \n",
       "1                   0.044849                           0.014573   \n",
       "2                   0.258184                           0.005179   \n",
       "3                   0.142561                           0.000593   \n",
       "4                   0.051899                           0.025890   \n",
       "5                   0.160993                           0.018382   \n",
       "6                   0.233344                           0.006766   \n",
       "7                   0.050359                           0.000000   \n",
       "8                   0.141574                           0.000691   \n",
       "9                   0.074982                           0.715785   \n",
       "10                  0.015447                           0.002413   \n",
       "11                  0.040798                           0.072301   \n",
       "\n",
       "    axon_total_length_per_neurite_max  axon_total_length_per_neurite_mean  \\\n",
       "0                            0.028674                            0.028674   \n",
       "1                            0.014573                            0.014573   \n",
       "2                            0.005179                            0.005179   \n",
       "3                            0.000593                            0.000593   \n",
       "4                            0.025890                            0.025890   \n",
       "5                            0.018382                            0.018382   \n",
       "6                            0.006766                            0.006766   \n",
       "7                            0.000000                            0.000000   \n",
       "8                            0.000691                            0.000691   \n",
       "9                            0.715785                            0.715785   \n",
       "10                           0.002413                            0.002413   \n",
       "11                           0.072301                            0.072301   \n",
       "\n",
       "    axon_total_length_per_neurite_std  \n",
       "0                                 0.0  \n",
       "1                                 0.0  \n",
       "2                                 0.0  \n",
       "3                                 0.0  \n",
       "4                                 0.0  \n",
       "5                                 0.0  \n",
       "6                                 0.0  \n",
       "7                                 0.0  \n",
       "8                                 0.0  \n",
       "9                                 0.0  \n",
       "10                                0.0  \n",
       "11                                0.0  \n",
       "\n",
       "[12 rows x 84 columns]"
      ]
     },
     "execution_count": 11,
     "metadata": {},
     "output_type": "execute_result"
    }
   ],
   "source": [
    "df = pd.DataFrame.from_dict(loaded_f['orig_vs_cloned'])\n",
    "df.columns = config_names\n",
    "df"
   ]
  },
  {
   "cell_type": "code",
   "execution_count": 12,
   "metadata": {},
   "outputs": [
    {
     "data": {
      "text/plain": [
       "(12, 84)"
      ]
     },
     "execution_count": 12,
     "metadata": {},
     "output_type": "execute_result"
    }
   ],
   "source": [
    "np.array(loaded_f['orig_vs_cloned']).shape"
   ]
  },
  {
   "cell_type": "code",
   "execution_count": 13,
   "metadata": {},
   "outputs": [],
   "source": [
    "scores_ALL_clone = np.array(loaded_f['orig_vs_cloned'])\n",
    "scores_ALL_repaired = np.array(loaded_f['orig_vs_repaired'])"
   ]
  },
  {
   "cell_type": "code",
   "execution_count": 14,
   "metadata": {
    "jupyter": {
     "source_hidden": true
    }
   },
   "outputs": [],
   "source": [
    "scores_ALL_clone_basal = scores_ALL_clone[:,:basal_apical_border_idx]\n",
    "scores_ALL_clone_apical = scores_ALL_clone[:,basal_apical_border_idx:]"
   ]
  },
  {
   "cell_type": "code",
   "execution_count": 18,
   "metadata": {
    "collapsed": true,
    "jupyter": {
     "outputs_hidden": true,
     "source_hidden": true
    }
   },
   "outputs": [
    {
     "data": {
      "text/plain": [
       "(12, 84)"
      ]
     },
     "execution_count": 18,
     "metadata": {},
     "output_type": "execute_result"
    }
   ],
   "source": [
    "scores_ALL_clone_basal.shape"
   ]
  },
  {
   "cell_type": "code",
   "execution_count": 15,
   "metadata": {},
   "outputs": [],
   "source": [
    "scores_axon_min = scores_ALL_clone[:,::4] # all mtypes , only means\n",
    "scores_axon_max = scores_ALL_clone[:,1::4] # all mtypes , only means\n",
    "scores_axon_mean = scores_ALL_clone[:,2::4] # all mtypes , only means\n",
    "scores_axon_std = scores_ALL_clone[:,3::4] # all mtypes , only means"
   ]
  },
  {
   "cell_type": "code",
   "execution_count": 16,
   "metadata": {},
   "outputs": [],
   "source": [
    "arr = scores_axon_mean.sum(axis=0)\n",
    "top_k = 5\n",
    "top_k_feature_ind = arr.argsort()[-top_k:][::-1]\n",
    "top_k_features = np.array(metrics)[top_k_feature_ind]"
   ]
  },
  {
   "cell_type": "code",
   "execution_count": 17,
   "metadata": {
    "collapsed": true,
    "jupyter": {
     "outputs_hidden": true,
     "source_hidden": true
    }
   },
   "outputs": [
    {
     "data": {
      "text/html": [
       "<div>\n",
       "<style scoped>\n",
       "    .dataframe tbody tr th:only-of-type {\n",
       "        vertical-align: middle;\n",
       "    }\n",
       "\n",
       "    .dataframe tbody tr th {\n",
       "        vertical-align: top;\n",
       "    }\n",
       "\n",
       "    .dataframe thead th {\n",
       "        text-align: right;\n",
       "    }\n",
       "</style>\n",
       "<table border=\"1\" class=\"dataframe\">\n",
       "  <thead>\n",
       "    <tr style=\"text-align: right;\">\n",
       "      <th></th>\n",
       "      <th>section_path_distances</th>\n",
       "      <th>section_term_radial_distances</th>\n",
       "      <th>section_radial_distances</th>\n",
       "      <th>total_length_per_neurite</th>\n",
       "      <th>remote_bifurcation_angles</th>\n",
       "    </tr>\n",
       "  </thead>\n",
       "  <tbody>\n",
       "    <tr>\n",
       "      <th>SLM_PPA</th>\n",
       "      <td>0.006306</td>\n",
       "      <td>0.035069</td>\n",
       "      <td>0.044367</td>\n",
       "      <td>0.028674</td>\n",
       "      <td>0.151305</td>\n",
       "    </tr>\n",
       "    <tr>\n",
       "      <th>SO_BP</th>\n",
       "      <td>0.001646</td>\n",
       "      <td>0.046045</td>\n",
       "      <td>0.046631</td>\n",
       "      <td>0.014573</td>\n",
       "      <td>0.136653</td>\n",
       "    </tr>\n",
       "    <tr>\n",
       "      <th>SO_BS</th>\n",
       "      <td>0.125358</td>\n",
       "      <td>0.121244</td>\n",
       "      <td>0.122297</td>\n",
       "      <td>0.005179</td>\n",
       "      <td>0.005702</td>\n",
       "    </tr>\n",
       "    <tr>\n",
       "      <th>SO_OLM</th>\n",
       "      <td>0.041045</td>\n",
       "      <td>0.006335</td>\n",
       "      <td>0.005515</td>\n",
       "      <td>0.000593</td>\n",
       "      <td>0.033576</td>\n",
       "    </tr>\n",
       "    <tr>\n",
       "      <th>SO_Tri</th>\n",
       "      <td>0.037553</td>\n",
       "      <td>0.055673</td>\n",
       "      <td>0.063779</td>\n",
       "      <td>0.025890</td>\n",
       "      <td>0.002816</td>\n",
       "    </tr>\n",
       "    <tr>\n",
       "      <th>SP_AA</th>\n",
       "      <td>0.043993</td>\n",
       "      <td>0.008161</td>\n",
       "      <td>0.007151</td>\n",
       "      <td>0.018382</td>\n",
       "      <td>0.185916</td>\n",
       "    </tr>\n",
       "    <tr>\n",
       "      <th>SP_BS</th>\n",
       "      <td>0.039433</td>\n",
       "      <td>0.041664</td>\n",
       "      <td>0.057692</td>\n",
       "      <td>0.006766</td>\n",
       "      <td>0.002409</td>\n",
       "    </tr>\n",
       "    <tr>\n",
       "      <th>SP_CCKBC</th>\n",
       "      <td>0.035660</td>\n",
       "      <td>0.000587</td>\n",
       "      <td>0.000000</td>\n",
       "      <td>0.000000</td>\n",
       "      <td>0.195896</td>\n",
       "    </tr>\n",
       "    <tr>\n",
       "      <th>SP_Ivy</th>\n",
       "      <td>0.076071</td>\n",
       "      <td>0.106327</td>\n",
       "      <td>0.080947</td>\n",
       "      <td>0.000691</td>\n",
       "      <td>0.021150</td>\n",
       "    </tr>\n",
       "    <tr>\n",
       "      <th>SP_PC</th>\n",
       "      <td>0.538765</td>\n",
       "      <td>0.549012</td>\n",
       "      <td>0.515586</td>\n",
       "      <td>0.715785</td>\n",
       "      <td>0.000000</td>\n",
       "    </tr>\n",
       "    <tr>\n",
       "      <th>SP_PVBC</th>\n",
       "      <td>0.108284</td>\n",
       "      <td>0.016145</td>\n",
       "      <td>0.017210</td>\n",
       "      <td>0.002413</td>\n",
       "      <td>0.008088</td>\n",
       "    </tr>\n",
       "    <tr>\n",
       "      <th>SR_SCA</th>\n",
       "      <td>0.048117</td>\n",
       "      <td>0.076762</td>\n",
       "      <td>0.087154</td>\n",
       "      <td>0.072301</td>\n",
       "      <td>0.022185</td>\n",
       "    </tr>\n",
       "  </tbody>\n",
       "</table>\n",
       "</div>"
      ],
      "text/plain": [
       "          section_path_distances  section_term_radial_distances  \\\n",
       "SLM_PPA                 0.006306                       0.035069   \n",
       "SO_BP                   0.001646                       0.046045   \n",
       "SO_BS                   0.125358                       0.121244   \n",
       "SO_OLM                  0.041045                       0.006335   \n",
       "SO_Tri                  0.037553                       0.055673   \n",
       "SP_AA                   0.043993                       0.008161   \n",
       "SP_BS                   0.039433                       0.041664   \n",
       "SP_CCKBC                0.035660                       0.000587   \n",
       "SP_Ivy                  0.076071                       0.106327   \n",
       "SP_PC                   0.538765                       0.549012   \n",
       "SP_PVBC                 0.108284                       0.016145   \n",
       "SR_SCA                  0.048117                       0.076762   \n",
       "\n",
       "          section_radial_distances  total_length_per_neurite  \\\n",
       "SLM_PPA                   0.044367                  0.028674   \n",
       "SO_BP                     0.046631                  0.014573   \n",
       "SO_BS                     0.122297                  0.005179   \n",
       "SO_OLM                    0.005515                  0.000593   \n",
       "SO_Tri                    0.063779                  0.025890   \n",
       "SP_AA                     0.007151                  0.018382   \n",
       "SP_BS                     0.057692                  0.006766   \n",
       "SP_CCKBC                  0.000000                  0.000000   \n",
       "SP_Ivy                    0.080947                  0.000691   \n",
       "SP_PC                     0.515586                  0.715785   \n",
       "SP_PVBC                   0.017210                  0.002413   \n",
       "SR_SCA                    0.087154                  0.072301   \n",
       "\n",
       "          remote_bifurcation_angles  \n",
       "SLM_PPA                    0.151305  \n",
       "SO_BP                      0.136653  \n",
       "SO_BS                      0.005702  \n",
       "SO_OLM                     0.033576  \n",
       "SO_Tri                     0.002816  \n",
       "SP_AA                      0.185916  \n",
       "SP_BS                      0.002409  \n",
       "SP_CCKBC                   0.195896  \n",
       "SP_Ivy                     0.021150  \n",
       "SP_PC                      0.000000  \n",
       "SP_PVBC                    0.008088  \n",
       "SR_SCA                     0.022185  "
      ]
     },
     "execution_count": 17,
     "metadata": {},
     "output_type": "execute_result"
    }
   ],
   "source": [
    "dff = pd.DataFrame(scores_axon_mean[:,top_k_feature_ind],index=MTYPES)\n",
    "dff.columns = top_k_features\n",
    "dff"
   ]
  },
  {
   "cell_type": "code",
   "execution_count": 22,
   "metadata": {
    "jupyter": {
     "source_hidden": true
    }
   },
   "outputs": [],
   "source": [
    "dff = pd.DataFrame(scores_basal_min[:,top_k_feature_ind],index=MTYPES).T\n",
    "dff2 = pd.DataFrame(scores_basal_max[:,top_k_feature_ind],index=MTYPES).T\n",
    "dff3 = pd.DataFrame(scores_basal_mean[:,top_k_feature_ind],index=MTYPES).T\n",
    "dff4 = pd.DataFrame(scores_basal_max[:,top_k_feature_ind],index=MTYPES).T"
   ]
  },
  {
   "cell_type": "code",
   "execution_count": 17,
   "metadata": {},
   "outputs": [
    {
     "data": {
      "text/plain": [
       "9"
      ]
     },
     "execution_count": 17,
     "metadata": {},
     "output_type": "execute_result"
    }
   ],
   "source": [
    "exc_idx = np.where(MTYPES==\"SP_PC\")[0][0]\n",
    "exc_idx"
   ]
  },
  {
   "cell_type": "code",
   "execution_count": 112,
   "metadata": {},
   "outputs": [
    {
     "data": {
      "text/plain": [
       "'\\nsns.set(style=\"ticks\", context=\"paper\", font=\"Arial\", rc={\"axes.labelsize\":7, \"legend.fontsize\":5, \"axes.linewidth\":0.4,\\n            \"xtick.labelsize\":6, \"xtick.major.size\":2, \"xtick.major.width\":0.5, \"xtick.minor.size\":1.5, \"xtick.minor.width\":0.3,\\n            \"ytick.labelsize\":6, \"ytick.major.size\":2, \"ytick.major.width\":0.5, \"ytick.minor.size\":1.5, \"ytick.minor.width\":0.3})\\ncm = 1/2.54  # centimeters in inches\\n'"
      ]
     },
     "execution_count": 112,
     "metadata": {},
     "output_type": "execute_result"
    }
   ],
   "source": [
    "'''\n",
    "sns.set(style=\"ticks\", context=\"paper\", font=\"Arial\", rc={\"axes.labelsize\":7, \"legend.fontsize\":5, \"axes.linewidth\":0.4,\n",
    "            \"xtick.labelsize\":6, \"xtick.major.size\":2, \"xtick.major.width\":0.5, \"xtick.minor.size\":1.5, \"xtick.minor.width\":0.3,\n",
    "            \"ytick.labelsize\":6, \"ytick.major.size\":2, \"ytick.major.width\":0.5, \"ytick.minor.size\":1.5, \"ytick.minor.width\":0.3})\n",
    "cm = 1/2.54  # centimeters in inches\n",
    "'''"
   ]
  },
  {
   "cell_type": "code",
   "execution_count": 95,
   "metadata": {},
   "outputs": [
    {
     "data": {
      "image/png": "[encoded data removed]",
      "text/plain": [
       "<Figure size 453.543x170.079 with 1 Axes>"
      ]
     },
     "metadata": {},
     "output_type": "display_data"
    }
   ],
   "source": [
    "axon_df = pd.DataFrame(scores_axon_mean,index=MTYPES).T\n",
    "\n",
    "f = plt.subplots(1,1,figsize=(16*cm, 6*cm))\n",
    "sns.boxplot(data=axon_df)\n",
    "plt.title('Axons')\n",
    "plt.ylabel('Mean Error')\n",
    "#plt.suptitle('Mean Error on 21 morphometrics : Clones')\n",
    "plt.tight_layout()\n"
   ]
  },
  {
   "cell_type": "code",
   "execution_count": 111,
   "metadata": {},
   "outputs": [
    {
     "data": {
      "image/png": "[encoded data removed]",
      "text/plain": [
       "<Figure size 453.543x141.732 with 2 Axes>"
      ]
     },
     "metadata": {},
     "output_type": "display_data"
    }
   ],
   "source": [
    "f = plt.subplots(1,2,figsize=(16*cm, 5*cm),gridspec_kw={'width_ratios': [9, 1]})\n",
    "\n",
    "#sns.set(style=\"ticks\", context=\"paper\", font=\"Arial\", rc={\"legend.fontsize\":7})\n",
    "\n",
    "axon_df_inh = pd.DataFrame(scores_axon_mean[np.where(MTYPES!='SP_PC')],index=MTYPES[np.where(MTYPES!='SP_PC')]).T\n",
    "axon_df_exc = pd.DataFrame(scores_axon_mean[exc_idx,:],columns=['SP_PC'])\n",
    "max_val = max(np.max(axon_df_inh.values),np.max(axon_df_exc.values))\n",
    "\n",
    "plt.subplot(1,2,1)\n",
    "\n",
    "sns.boxplot(data=axon_df_inh)\n",
    "plt.ylabel('Mean Error')\n",
    "plt.title('INH Axons')\n",
    "#plt.ylim([0,max_val])\n",
    "\n",
    "plt.subplot(1,2,2)\n",
    "\n",
    "sns.boxplot(data=axon_df_exc,width=0.6)\n",
    "plt.ylabel('Mean Error')\n",
    "plt.title('EXC Axons')\n",
    "#plt.ylim([0,max_val])\n",
    "\n",
    "#plt.suptitle('Mean Error on 21 morphometrics : Clones')\n",
    "plt.tight_layout()\n"
   ]
  },
  {
   "cell_type": "code",
   "execution_count": 20,
   "metadata": {},
   "outputs": [
    {
     "data": {
      "image/png": "[encoded data removed]",
      "text/plain": [
       "<Figure size 864x576 with 1 Axes>"
      ]
     },
     "metadata": {
      "needs_background": "light"
     },
     "output_type": "display_data"
    }
   ],
   "source": [
    "f = plt.subplots(1,1,figsize=(12,8))\n",
    "\n",
    "df_mean = pd.DataFrame(scores_axon_mean)\n",
    "\n",
    "plt.subplot(1,1,1)\n",
    "\n",
    "bp=sns.barplot(data=df_mean,errwidth=2)\n",
    "#plt.errorbar(np.arange(len(basal_df_std.columns)),basal_df_mean.values.flatten(), yerr= basal_df_std.values.flatten(), fmt=\"o\", color=\"r\")\n",
    "bp.set_xticklabels(metrics,rotation=90)\n",
    "\n",
    "plt.ylabel('Mean Error')\n",
    "plt.title('Axon')\n",
    "\n",
    "plt.suptitle('Normalized Mean Error on 21 morphometrics')\n",
    "plt.tight_layout()"
   ]
  },
  {
   "cell_type": "code",
   "execution_count": 89,
   "metadata": {
    "collapsed": true,
    "jupyter": {
     "outputs_hidden": true
    }
   },
   "outputs": [
    {
     "data": {
      "image/png": "[encoded data removed]",
      "text/plain": [
       "<Figure size 864x576 with 1 Axes>"
      ]
     },
     "metadata": {
      "needs_background": "light"
     },
     "output_type": "display_data"
    }
   ],
   "source": [
    "f = plt.subplots(1,1,figsize=(12,8))\n",
    "\n",
    "df_mean = pd.DataFrame(scores_axon_mean[exc_idx]).T\n",
    "\n",
    "plt.subplot(1,1,1)\n",
    "\n",
    "bp=sns.barplot(data=df_mean,orient='w')\n",
    "\n",
    "bp.set_xticklabels(metrics,rotation=90)\n",
    "\n",
    "plt.ylabel('Mean Error')\n",
    "plt.title('Axon')\n",
    "\n",
    "plt.suptitle('Normalized Mean Error on 21 morphometrics')\n",
    "plt.tight_layout()"
   ]
  },
  {
   "cell_type": "code",
   "execution_count": 83,
   "metadata": {},
   "outputs": [
    {
     "data": {
      "image/png": "[encoded data removed]",
      "text/plain": [
       "<Figure size 864x288 with 1 Axes>"
      ]
     },
     "metadata": {
      "needs_background": "light"
     },
     "output_type": "display_data"
    }
   ],
   "source": [
    "f = plt.subplots(1,1,figsize=(12,4))\n",
    "\n",
    "df_mean = pd.DataFrame(scores_axon_mean[exc_idx]).T\n",
    "\n",
    "plt.subplot(1,1,1)\n",
    "\n",
    "bp=sns.barplot(data=df_mean,orient='h')\n",
    "\n",
    "bp.set_yticklabels(metrics,rotation=0)\n",
    "\n",
    "plt.ylabel('Mean Error')\n",
    "plt.title('Axon')\n",
    "\n",
    "plt.suptitle('Normalized Mean Error on 21 morphometrics')\n",
    "plt.tight_layout()"
   ]
  },
  {
   "cell_type": "code",
   "execution_count": 32,
   "metadata": {},
   "outputs": [
    {
     "data": {
      "image/png": "[encoded data removed]",
      "text/plain": [
       "<Figure size 864x432 with 1 Axes>"
      ]
     },
     "metadata": {
      "needs_background": "light"
     },
     "output_type": "display_data"
    }
   ],
   "source": [
    "f = plt.subplots(1,1,figsize=(12,6))\n",
    "\n",
    "df_mean = pd.DataFrame(scores_axon_mean)\n",
    "\n",
    "plt.subplot(1,1,1)\n",
    "\n",
    "bp=sns.boxplot(data=df_mean)\n",
    "#plt.errorbar(np.arange(len(basal_df_std.columns)),basal_df_mean.values.flatten(), yerr= basal_df_std.values.flatten(), fmt=\"o\", color=\"r\")\n",
    "bp.set_xticklabels(metrics,rotation=90)\n",
    "\n",
    "plt.ylabel('Mean Error')\n",
    "plt.title('Axon')\n",
    "\n",
    "#plt.suptitle('Normalized Mean Error on 21 morphometrics')\n",
    "plt.tight_layout()"
   ]
  },
  {
   "cell_type": "markdown",
   "metadata": {},
   "source": [
    "### From here , we can see that original morphs have variety of axon bifurcation but since we used only 1 axon for grafting. we have the 30 in that value. which creates the differences in scoring"
   ]
  },
  {
   "cell_type": "markdown",
   "metadata": {},
   "source": [
    "# manually extract the one axon for baseline"
   ]
  },
  {
   "cell_type": "code",
   "execution_count": 42,
   "metadata": {},
   "outputs": [],
   "source": [
    "features = list(config['neurite'].keys())"
   ]
  },
  {
   "cell_type": "code",
   "execution_count": 44,
   "metadata": {},
   "outputs": [],
   "source": [
    "config2 = {'neurite' : {i:['mean'] for i in features},\n",
    "           \"neurite_type\": [\"AXON\"]\n",
    "          }"
   ]
  },
  {
   "cell_type": "code",
   "execution_count": 26,
   "metadata": {},
   "outputs": [],
   "source": [
    "input_d = 'orig_morphs'\n",
    "output_d = '08_Cloned_morphs'\n",
    "mtype = 'SP_PC'\n",
    "check_neurites=['axon']\n",
    "\n",
    "#pop1 = neurom.load_morphologies(f\"{input_d}/{mtype}\")\n",
    "pop2 = neurom.load_morphologies(f\"{output_d}/{mtype}\")\n",
    "\n",
    "#df1 = morph_stats.extract_dataframe(pop1, config2)\n",
    "df2 = morph_stats.extract_dataframe(pop2, config2)"
   ]
  },
  {
   "cell_type": "code",
   "execution_count": 46,
   "metadata": {},
   "outputs": [
    {
     "name": "stdout",
     "output_type": "stream",
     "text": [
      "14\n"
     ]
    }
   ],
   "source": [
    "for i in range(len(os.listdir(f'{input_d}/{mtype}'))):\n",
    "    pop1 = neurom.load_morphologies(f\"{input_d}/{mtype}/{os.listdir(f'{input_d}/{mtype}')[i]}\")\n",
    "    df1 = morph_stats.extract_dataframe(pop1, config2)\n",
    "    if df1['axon'].mean_number_of_bifurcations.values[0] == 30:\n",
    "        print(i)\n",
    "        break"
   ]
  },
  {
   "cell_type": "code",
   "execution_count": 54,
   "metadata": {},
   "outputs": [
    {
     "name": "stderr",
     "output_type": "stream",
     "text": [
      "<ipython-input-1-c62d276b1f6d>:145: RuntimeWarning: invalid value encountered in double_scalars\n",
      "  return median_diff / max_vis_spread\n"
     ]
    }
   ],
   "source": [
    "scores = [] \n",
    "    \n",
    "for neurite_type in check_neurites:\n",
    "    if neurite_type not in df1.keys():\n",
    "        print(f\"{neurite_type} not in {input_d}/{mtype}\")\n",
    "        continue\n",
    "    for k in df1[neurite_type].keys():\n",
    "        data1 = df1[neurite_type][k]\n",
    "        data2 = df2[neurite_type][k]\n",
    "        try:\n",
    "            sc1 = mvs_score(data1, data2, 5)\n",
    "        except:\n",
    "            sc1 = 0.0\n",
    "        if not np.isnan(sc1):\n",
    "            scores.append(sc1)\n",
    "        else:\n",
    "            scores.append(0.0)\n",
    "\n",
    "adjusted_scores = np.array(scores)"
   ]
  },
  {
   "cell_type": "code",
   "execution_count": 77,
   "metadata": {},
   "outputs": [],
   "source": [
    "scores_axon_mean_adjusted = scores_axon_mean.copy()\n",
    "scores_axon_mean_adjusted[exc_idx] = adjusted_scores"
   ]
  },
  {
   "cell_type": "code",
   "execution_count": 81,
   "metadata": {},
   "outputs": [
    {
     "data": {
      "image/png": "[encoded data removed]",
      "text/plain": [
       "<Figure size 864x432 with 1 Axes>"
      ]
     },
     "metadata": {
      "needs_background": "light"
     },
     "output_type": "display_data"
    }
   ],
   "source": [
    "f = plt.subplots(1,1,figsize=(12,6))\n",
    "\n",
    "df_mean = pd.DataFrame(scores_axon_mean_adjusted)\n",
    "\n",
    "plt.subplot(1,1,1)\n",
    "\n",
    "bp=sns.boxplot(data=df_mean)\n",
    "#plt.errorbar(np.arange(len(basal_df_std.columns)),basal_df_mean.values.flatten(), yerr= basal_df_std.values.flatten(), fmt=\"o\", color=\"r\")\n",
    "bp.set_xticklabels(metrics,rotation=90)\n",
    "\n",
    "plt.ylabel('Mean Error')\n",
    "plt.title('Axon')\n",
    "\n",
    "#plt.suptitle('Normalized Mean Error on 21 morphometrics')\n",
    "plt.tight_layout()"
   ]
  },
  {
   "cell_type": "code",
   "execution_count": 82,
   "metadata": {},
   "outputs": [],
   "source": [
    "np.save('axon_scores_adjusted.npy',scores_axon_mean_adjusted)"
   ]
  },
  {
   "cell_type": "code",
   "execution_count": 153,
   "metadata": {},
   "outputs": [],
   "source": [
    "# we can fix it by just taking that axon as a sample"
   ]
  },
  {
   "cell_type": "code",
   "execution_count": null,
   "metadata": {},
   "outputs": [],
   "source": []
  }
 ],
 "metadata": {
  "kernelspec": {
   "display_name": "venv2022",
   "language": "python",
   "name": "venv2022"
  },
  "language_info": {
   "codemirror_mode": {
    "name": "ipython",
    "version": 3
   },
   "file_extension": ".py",
   "mimetype": "text/x-python",
   "name": "python",
   "nbconvert_exporter": "python",
   "pygments_lexer": "ipython3",
   "version": "3.8.3"
  }
 },
 "nbformat": 4,
 "nbformat_minor": 4
}
