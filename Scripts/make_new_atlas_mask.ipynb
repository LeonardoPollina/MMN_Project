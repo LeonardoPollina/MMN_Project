{
 "cells": [
  {
   "cell_type": "code",
   "execution_count": 1,
   "metadata": {},
   "outputs": [],
   "source": [
    "import numpy as np\n",
    "from scipy import sparse\n",
    "from voxcell import VoxelData\n",
    "from voxcell.nexus.voxelbrain import Atlas"
   ]
  },
  {
   "cell_type": "code",
   "execution_count": 2,
   "metadata": {},
   "outputs": [],
   "source": [
    "atlas_dir = '../data/atlas/25um/'\n",
    "hierarchy_path = f'{atlas_dir}/hierarchy.json'"
   ]
  },
  {
   "cell_type": "code",
   "execution_count": 3,
   "metadata": {},
   "outputs": [],
   "source": [
    "atlas = Atlas.open(atlas_dir)\n",
    "region_map = atlas.load_region_map()"
   ]
  },
  {
   "cell_type": "code",
   "execution_count": 32,
   "metadata": {},
   "outputs": [],
   "source": [
    " = atlas.get_region_mask('CA1')"
   ]
  },
  {
   "cell_type": "code",
   "execution_count": 5,
   "metadata": {},
   "outputs": [],
   "source": [
    "root_children = list(region_map.find('root','name',with_descendants=True))\n",
    "mask_hierarchy_indices = [region_map.get(i,'st_level') == 1 for i in root_children]"
   ]
  },
  {
   "cell_type": "code",
   "execution_count": 22,
   "metadata": {},
   "outputs": [],
   "source": [
    "st_lvl_1_ids = np.array(root_children)[list(np.where(mask_hierarchy_indices)[0])]"
   ]
  },
  {
   "cell_type": "code",
   "execution_count": 25,
   "metadata": {},
   "outputs": [
    {
     "data": {
      "text/plain": [
       "array([        8,        73,      1009,      1024, 304325711])"
      ]
     },
     "execution_count": 25,
     "metadata": {},
     "output_type": "execute_result"
    }
   ],
   "source": [
    "st_lvl_1_ids"
   ]
  },
  {
   "cell_type": "code",
   "execution_count": 23,
   "metadata": {},
   "outputs": [
    {
     "data": {
      "text/plain": [
       "['Basic cell groups and regions',\n",
       " 'ventricular systems',\n",
       " 'fiber tracts',\n",
       " 'grooves',\n",
       " 'retina']"
      ]
     },
     "execution_count": 23,
     "metadata": {},
     "output_type": "execute_result"
    }
   ],
   "source": [
    "[region_map.get(i,'name') for i in st_lvl_1_ids]"
   ]
  },
  {
   "cell_type": "code",
   "execution_count": 28,
   "metadata": {},
   "outputs": [
    {
     "name": "stdout",
     "output_type": "stream",
     "text": [
      "Basic cell groups and regions 8\n",
      "ventricular systems 73\n",
      "fiber tracts 1009\n",
      "grooves 1024\n",
      "retina 304325711\n"
     ]
    }
   ],
   "source": [
    "vd = VoxelData.load_nrrd(f'{atlas_dir}/brain_regions.nrrd')\n",
    "vd_new_raw = np.zeros_like(vd.raw).astype(int)\n",
    "# set all values to -1 but keep the same shape\n",
    "#vd_new_raw[:] = -1\n",
    "\n",
    "for i in st_lvl_1_ids:\n",
    "    region_name = region_map.get(i,'name') \n",
    "    print(region_name, i)\n",
    "    mask = atlas.get_region_mask(i,attr='id').raw.astype(int) * i\n",
    "    assert np.all(mask[mask != 0] == i)\n",
    "    vd_new_raw += mask\n"
   ]
  },
  {
   "cell_type": "code",
   "execution_count": 29,
   "metadata": {},
   "outputs": [
    {
     "data": {
      "text/plain": [
       "array([   0,    8,   73, 1009])"
      ]
     },
     "execution_count": 29,
     "metadata": {},
     "output_type": "execute_result"
    }
   ],
   "source": [
    "np.unique(vd_new_raw)"
   ]
  },
  {
   "cell_type": "code",
   "execution_count": 40,
   "metadata": {},
   "outputs": [],
   "source": [
    "# save new mask\n",
    "brain_regions = atlas.load_data(\"brain_regions\")\n",
    "st_lvl_1 = brain_regions.with_data(np.asarray(vd_new_raw, dtype=np.uint64))\n",
    "np.testing.assert_array_equal(np.unique(st_lvl_1.raw),np.unique(vd_new_raw))\n",
    "st_lvl_1.save_nrrd(f'{atlas_dir}/brain_regions_st_lvl_1.nrrd')"
   ]
  },
  {
   "cell_type": "code",
   "execution_count": null,
   "metadata": {},
   "outputs": [],
   "source": []
  }
 ],
 "metadata": {
  "kernelspec": {
   "display_name": "venv2022",
   "language": "python",
   "name": "venv2022"
  },
  "language_info": {
   "codemirror_mode": {
    "name": "ipython",
    "version": 3
   },
   "file_extension": ".py",
   "mimetype": "text/x-python",
   "name": "python",
   "nbconvert_exporter": "python",
   "pygments_lexer": "ipython3",
   "version": "3.8.3"
  },
  "orig_nbformat": 4
 },
 "nbformat": 4,
 "nbformat_minor": 2
}
